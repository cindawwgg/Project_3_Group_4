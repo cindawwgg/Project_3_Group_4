{
 "cells": [
  {
   "cell_type": "markdown",
   "metadata": {},
   "source": []
  },
  {
   "cell_type": "code",
   "execution_count": null,
   "metadata": {},
   "outputs": [],
   "source": []
  },
  {
   "cell_type": "markdown",
   "metadata": {},
   "source": [
    "Cindy's Stock vs. David's Stock"
   ]
  },
  {
   "cell_type": "markdown",
   "metadata": {},
   "source": [
    "Cindy's Stock: NVDA"
   ]
  },
  {
   "cell_type": "markdown",
   "metadata": {},
   "source": [
    "David's Stock"
   ]
  },
  {
   "cell_type": "markdown",
   "metadata": {},
   "source": [
    "Kirsten's Stock vs. Marry's Stock"
   ]
  },
  {
   "cell_type": "markdown",
   "metadata": {},
   "source": [
    "Kirsten's Stock: AVGX"
   ]
  },
  {
   "cell_type": "markdown",
   "metadata": {},
   "source": [
    "Marry's Stock"
   ]
  },
  {
   "cell_type": "code",
   "execution_count": 15,
   "metadata": {},
   "outputs": [],
   "source": [
    "# Import necessary libraries\n",
    "import pandas as pd\n",
    "import json\n",
    "import os"
   ]
  },
  {
   "cell_type": "code",
   "execution_count": 21,
   "metadata": {},
   "outputs": [],
   "source": [
    "# Define the file path to the JSON data\n",
    "file_path = '../Data/mongo_stock_data.json'"
   ]
  },
  {
   "cell_type": "code",
   "execution_count": 23,
   "metadata": {},
   "outputs": [
    {
     "name": "stdout",
     "output_type": "stream",
     "text": [
      "File found! Loading data...\n"
     ]
    }
   ],
   "source": [
    "# Load json\n",
    "    with open(file_path, 'r') as file:\n",
    "        stock_data = json.load(file)"
   ]
  },
  {
   "cell_type": "code",
   "execution_count": 26,
   "metadata": {},
   "outputs": [],
   "source": [
    "# Convert to DataFrame\n",
    "nvda_avgx_df = pd.DataFrame(stock_data)\n",
    "\n",
    "# Convert date column to datetime format\n",
    "nvda_avgx_df['date'] = pd.to_datetime(nvda_avgx_df['date'])\n",
    "\n",
    "# Filter for NVDA and AVGX since October 1, 2024\n",
    "filtered_nvda_avgx_df = nvda_avgx_df[(nvda_avgx_df['symbol'].isin(['NVDA', 'AVGX'])) & (nvda_avgx_df['date'] >= '2024-10-01')]"
   ]
  },
  {
   "cell_type": "code",
   "execution_count": 29,
   "metadata": {},
   "outputs": [
    {
     "data": {
      "text/html": [
       "<div>\n",
       "<style scoped>\n",
       "    .dataframe tbody tr th:only-of-type {\n",
       "        vertical-align: middle;\n",
       "    }\n",
       "\n",
       "    .dataframe tbody tr th {\n",
       "        vertical-align: top;\n",
       "    }\n",
       "\n",
       "    .dataframe thead th {\n",
       "        text-align: right;\n",
       "    }\n",
       "</style>\n",
       "<table border=\"1\" class=\"dataframe\">\n",
       "  <thead>\n",
       "    <tr style=\"text-align: right;\">\n",
       "      <th></th>\n",
       "      <th>1. open</th>\n",
       "      <th>2. high</th>\n",
       "      <th>3. low</th>\n",
       "      <th>4. close</th>\n",
       "      <th>5. volume</th>\n",
       "      <th>date</th>\n",
       "      <th>symbol</th>\n",
       "    </tr>\n",
       "  </thead>\n",
       "  <tbody>\n",
       "    <tr>\n",
       "      <th>0</th>\n",
       "      <td>123.1000</td>\n",
       "      <td>125.0000</td>\n",
       "      <td>118.1000</td>\n",
       "      <td>124.6500</td>\n",
       "      <td>392925469</td>\n",
       "      <td>2025-01-30</td>\n",
       "      <td>NVDA</td>\n",
       "    </tr>\n",
       "    <tr>\n",
       "      <th>1</th>\n",
       "      <td>126.5000</td>\n",
       "      <td>126.8900</td>\n",
       "      <td>120.0500</td>\n",
       "      <td>123.7000</td>\n",
       "      <td>467120640</td>\n",
       "      <td>2025-01-29</td>\n",
       "      <td>NVDA</td>\n",
       "    </tr>\n",
       "    <tr>\n",
       "      <th>2</th>\n",
       "      <td>121.8100</td>\n",
       "      <td>129.0000</td>\n",
       "      <td>116.2500</td>\n",
       "      <td>128.9900</td>\n",
       "      <td>579666350</td>\n",
       "      <td>2025-01-28</td>\n",
       "      <td>NVDA</td>\n",
       "    </tr>\n",
       "    <tr>\n",
       "      <th>3</th>\n",
       "      <td>124.8000</td>\n",
       "      <td>128.4000</td>\n",
       "      <td>116.7000</td>\n",
       "      <td>118.4200</td>\n",
       "      <td>818830895</td>\n",
       "      <td>2025-01-27</td>\n",
       "      <td>NVDA</td>\n",
       "    </tr>\n",
       "    <tr>\n",
       "      <th>4</th>\n",
       "      <td>148.3700</td>\n",
       "      <td>148.9700</td>\n",
       "      <td>141.8800</td>\n",
       "      <td>142.6200</td>\n",
       "      <td>234657635</td>\n",
       "      <td>2025-01-24</td>\n",
       "      <td>NVDA</td>\n",
       "    </tr>\n",
       "    <tr>\n",
       "      <th>...</th>\n",
       "      <td>...</td>\n",
       "      <td>...</td>\n",
       "      <td>...</td>\n",
       "      <td>...</td>\n",
       "      <td>...</td>\n",
       "      <td>...</td>\n",
       "      <td>...</td>\n",
       "    </tr>\n",
       "    <tr>\n",
       "      <th>6793</th>\n",
       "      <td>21.0100</td>\n",
       "      <td>21.8400</td>\n",
       "      <td>20.8347</td>\n",
       "      <td>21.1100</td>\n",
       "      <td>107583</td>\n",
       "      <td>2024-10-07</td>\n",
       "      <td>AVGX</td>\n",
       "    </tr>\n",
       "    <tr>\n",
       "      <th>6794</th>\n",
       "      <td>21.3900</td>\n",
       "      <td>21.5410</td>\n",
       "      <td>20.6600</td>\n",
       "      <td>21.4900</td>\n",
       "      <td>136250</td>\n",
       "      <td>2024-10-04</td>\n",
       "      <td>AVGX</td>\n",
       "    </tr>\n",
       "    <tr>\n",
       "      <th>6795</th>\n",
       "      <td>19.7400</td>\n",
       "      <td>21.0300</td>\n",
       "      <td>19.7200</td>\n",
       "      <td>20.4100</td>\n",
       "      <td>97225</td>\n",
       "      <td>2024-10-03</td>\n",
       "      <td>AVGX</td>\n",
       "    </tr>\n",
       "    <tr>\n",
       "      <th>6796</th>\n",
       "      <td>19.3700</td>\n",
       "      <td>20.5900</td>\n",
       "      <td>19.3700</td>\n",
       "      <td>20.1100</td>\n",
       "      <td>107955</td>\n",
       "      <td>2024-10-02</td>\n",
       "      <td>AVGX</td>\n",
       "    </tr>\n",
       "    <tr>\n",
       "      <th>6797</th>\n",
       "      <td>20.3800</td>\n",
       "      <td>20.4364</td>\n",
       "      <td>18.9700</td>\n",
       "      <td>19.3400</td>\n",
       "      <td>117553</td>\n",
       "      <td>2024-10-01</td>\n",
       "      <td>AVGX</td>\n",
       "    </tr>\n",
       "  </tbody>\n",
       "</table>\n",
       "<p>166 rows × 7 columns</p>\n",
       "</div>"
      ],
      "text/plain": [
       "       1. open   2. high    3. low  4. close  5. volume       date symbol\n",
       "0     123.1000  125.0000  118.1000  124.6500  392925469 2025-01-30   NVDA\n",
       "1     126.5000  126.8900  120.0500  123.7000  467120640 2025-01-29   NVDA\n",
       "2     121.8100  129.0000  116.2500  128.9900  579666350 2025-01-28   NVDA\n",
       "3     124.8000  128.4000  116.7000  118.4200  818830895 2025-01-27   NVDA\n",
       "4     148.3700  148.9700  141.8800  142.6200  234657635 2025-01-24   NVDA\n",
       "...        ...       ...       ...       ...        ...        ...    ...\n",
       "6793   21.0100   21.8400   20.8347   21.1100     107583 2024-10-07   AVGX\n",
       "6794   21.3900   21.5410   20.6600   21.4900     136250 2024-10-04   AVGX\n",
       "6795   19.7400   21.0300   19.7200   20.4100      97225 2024-10-03   AVGX\n",
       "6796   19.3700   20.5900   19.3700   20.1100     107955 2024-10-02   AVGX\n",
       "6797   20.3800   20.4364   18.9700   19.3400     117553 2024-10-01   AVGX\n",
       "\n",
       "[166 rows x 7 columns]"
      ]
     },
     "execution_count": 29,
     "metadata": {},
     "output_type": "execute_result"
    }
   ],
   "source": [
    "filtered_nvda_avgx_df"
   ]
  },
  {
   "cell_type": "code",
   "execution_count": 31,
   "metadata": {},
   "outputs": [],
   "source": [
    "filtered_nvda_avgx_df.to_json('filtered_nvda_avgx.json', orient='records', indent=4)  # json save"
   ]
  },
  {
   "cell_type": "code",
   "execution_count": null,
   "metadata": {},
   "outputs": [],
   "source": [
    "# Convert into separate data frames"
   ]
  },
  {
   "cell_type": "code",
   "execution_count": 35,
   "metadata": {},
   "outputs": [],
   "source": [
    "# Define the file path to the JSON data\n",
    "file_path = '../All_work/filtered_nvda_avgx.json'"
   ]
  },
  {
   "cell_type": "code",
   "execution_count": 36,
   "metadata": {},
   "outputs": [],
   "source": [
    "# Open and load the JSON file into a Python dictionary\n",
    "with open(file_path, 'r') as json_file:\n",
    "    nvda_avgx_data = json.load(json_file)  # Load JSON data"
   ]
  },
  {
   "cell_type": "code",
   "execution_count": 37,
   "metadata": {},
   "outputs": [],
   "source": [
    "# Convert the JSON data into a Pandas DataFrame\n",
    "nvda_avgx_df = pd.DataFrame(nvda_avgx_data)"
   ]
  },
  {
   "cell_type": "code",
   "execution_count": 38,
   "metadata": {},
   "outputs": [],
   "source": [
    "# Separate the data into two DataFrames: one for NVDA and one for AVGX\n",
    "nvda_df = nvda_avgx_df[nvda_avgx_df['symbol'] == 'NVDA'].copy()\n",
    "avgx_df = nvda_avgx_df[nvda_avgx_df['symbol'] == 'AVGX'].copy()"
   ]
  },
  {
   "cell_type": "code",
   "execution_count": 40,
   "metadata": {},
   "outputs": [],
   "source": [
    "# Sort both DataFrames by date to ensure chronological order\n",
    "nvda_df = nvda_df.sort_values(by='date')\n",
    "avgx_df = avgx_df.sort_values(by='date')"
   ]
  },
  {
   "cell_type": "code",
   "execution_count": 42,
   "metadata": {},
   "outputs": [
    {
     "name": "stdout",
     "output_type": "stream",
     "text": [
      "NVDA Data:\n",
      "     1. open   2. high    3. low  4. close  5. volume           date symbol\n",
      "82  121.7650  122.4351  115.7900  117.0000  302094485  1727740800000   NVDA\n",
      "81  116.4400  119.3800  115.1400  118.8500  221845887  1727827200000   NVDA\n",
      "80  120.9200  124.3600  120.3401  122.8500  277117973  1727913600000   NVDA\n",
      "79  124.9400  125.0400  121.8300  124.9200  244465552  1728000000000   NVDA\n",
      "78  124.9900  130.6400  124.9500  127.7200  346250233  1728259200000   NVDA\n",
      "\n",
      "AVGX Data:\n",
      "     1. open  2. high   3. low 4. close 5. volume           date symbol\n",
      "165  20.3800  20.4364  18.9700  19.3400    117553  1727740800000   AVGX\n",
      "164  19.3700  20.5900  19.3700  20.1100    107955  1727827200000   AVGX\n",
      "163  19.7400  21.0300  19.7200  20.4100     97225  1727913600000   AVGX\n",
      "162  21.3900  21.5410  20.6600  21.4900    136250  1728000000000   AVGX\n",
      "161  21.0100  21.8400  20.8347  21.1100    107583  1728259200000   AVGX\n"
     ]
    }
   ],
   "source": [
    "# Display the first few rows of each DataFrame to verify the data separation\n",
    "print(\"NVDA Data:\")\n",
    "print(nvda_df.head())  # Print the first few rows of the NVDA dataset\n",
    "\n",
    "print(\"\\nAVGX Data:\")\n",
    "print(avgx_df.head())  # Print the first few rows of the AVGX dataset"
   ]
  }
 ],
 "metadata": {
  "kernelspec": {
   "display_name": "base",
   "language": "python",
   "name": "python3"
  },
  "language_info": {
   "codemirror_mode": {
    "name": "ipython",
    "version": 3
   },
   "file_extension": ".py",
   "mimetype": "text/x-python",
   "name": "python",
   "nbconvert_exporter": "python",
   "pygments_lexer": "ipython3",
   "version": "3.12.4"
  }
 },
 "nbformat": 4,
 "nbformat_minor": 2
}
