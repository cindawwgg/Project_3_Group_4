{
 "cells": [
  {
   "cell_type": "markdown",
   "metadata": {},
   "source": [
    "# **DWTX vs. ELAB**\n",
    "\n",
    "\n",
    "## **A Gainer vs. A Loser?**  \n",
    "A gainer stock such as DWTX is what investor will refer as due to their nature in being able to show postive movement in their stock price while a loser like ELAB tend to show movement going downwards.\n",
    "\n",
    "Being able to track and analyze these two stocks can tell inventors which stock they want to invest in depending on what **risk, reward, and market behavior** they might have. Obviously, no one would want to invest in a stock where it would lose value, and that's we will be figuring out.\n",
    "\n",
    "---"
   ]
  },
  {
   "cell_type": "markdown",
   "metadata": {},
   "source": [
    "# **Data Preparation and Cleaning for Stock Prices**"
   ]
  },
  {
   "cell_type": "code",
   "execution_count": 1011,
   "metadata": {},
   "outputs": [],
   "source": [
    "# Import necessary libraries\n",
    "import pandas as pd\n",
    "import json"
   ]
  },
  {
   "cell_type": "code",
   "execution_count": 1012,
   "metadata": {},
   "outputs": [],
   "source": [
    "# Define the file path to the JSON data\n",
    "dwtx_file_path = 'Stock_data/dwtx_data.json'\n",
    "elab_file_path = 'Stock_data/elab_data.json'"
   ]
  },
  {
   "cell_type": "code",
   "execution_count": 1013,
   "metadata": {},
   "outputs": [],
   "source": [
    "# Open and load the JSON file into a Python dictionary\n",
    "with open(dwtx_file_path, 'r') as json_file:\n",
    "    dwtx_stock_data = json.load(json_file)  # Load JSON data\n",
    "\n",
    "\n",
    "with open(elab_file_path, 'r') as json_file:\n",
    "    elab_stock_data = json.load(json_file)  # Load JSON data\n"
   ]
  },
  {
   "cell_type": "code",
   "execution_count": 1014,
   "metadata": {},
   "outputs": [],
   "source": [
    "# Convert the JSON data into a Pandas DataFrame\n",
    "dwtx_df = pd.DataFrame(dwtx_stock_data)\n",
    "elab_df = pd.DataFrame(elab_stock_data)"
   ]
  },
  {
   "cell_type": "code",
   "execution_count": null,
   "metadata": {},
   "outputs": [],
   "source": [
    "dwtx_df"
   ]
  },
  {
   "cell_type": "code",
   "execution_count": null,
   "metadata": {},
   "outputs": [],
   "source": [
    "elab_df"
   ]
  },
  {
   "cell_type": "code",
   "execution_count": 1017,
   "metadata": {},
   "outputs": [],
   "source": [
    "# Sort both DataFrames by date to ensure chronological order\n",
    "dwtx_df = dwtx_df.sort_values(by='Date')\n",
    "elab_df = elab_df.sort_values(by='Date')"
   ]
  },
  {
   "cell_type": "code",
   "execution_count": null,
   "metadata": {},
   "outputs": [],
   "source": [
    "# Display the first few rows of each DataFrame to verify the data separation\n",
    "print(\"DWTX Data:\")\n",
    "print(dwtx_df.head())  \n",
    "\n",
    "print(\"ELAB Data:\")\n",
    "print(elab_df.head()) "
   ]
  },
  {
   "cell_type": "code",
   "execution_count": 1019,
   "metadata": {},
   "outputs": [],
   "source": [
    "# Ensure 'Date' is in datetime format\n",
    "dwtx_df['Date'] = pd.to_datetime(dwtx_df['Date'])\n",
    "elab_df['Date'] = pd.to_datetime(elab_df['Date'])\n",
    "\n",
    "# Set 'Date' as index only if it's not already\n",
    "if 'Date' in dwtx_df.columns:\n",
    "    dwtx_df.set_index('Date', inplace=True)\n",
    "if 'Date' in elab_df.columns:\n",
    "    elab_df.set_index('Date', inplace=True)"
   ]
  },
  {
   "cell_type": "code",
   "execution_count": 1020,
   "metadata": {},
   "outputs": [],
   "source": [
    "# Select only required columns\n",
    "dwtx_ohlc = dwtx_df[['Open', 'High', 'Low', 'Close', 'Volume']]\n",
    "elab_ohlc = elab_df[['Open', 'High', 'Low', 'Close', 'Volume']]"
   ]
  },
  {
   "cell_type": "code",
   "execution_count": 1021,
   "metadata": {},
   "outputs": [],
   "source": [
    "# Convert OHLC and Volume columns to numeric\n",
    "dwtx_ohlc = dwtx_ohlc.astype({'Open': 'float', 'High': 'float', \n",
    "                              'Low': 'float', 'Close': 'float', \n",
    "                              'Volume': 'float'})\n",
    "\n",
    "elab_ohlc = elab_ohlc.astype({'Open': 'float', 'High': 'float', \n",
    "                              'Low': 'float', 'Close': 'float', \n",
    "                              'Volume': 'float'})"
   ]
  },
  {
   "cell_type": "code",
   "execution_count": null,
   "metadata": {},
   "outputs": [],
   "source": [
    "print(dwtx_ohlc.dtypes)\n",
    "print(elab_ohlc.dtypes)"
   ]
  },
  {
   "cell_type": "markdown",
   "metadata": {},
   "source": [
    "- In both data sets for **DWTX** and **ELAB**, the data was cleaned and organized to show **Open, High, Low, Close, and Volume**\n",
    "\n",
    "---\n",
    "\n"
   ]
  },
  {
   "cell_type": "markdown",
   "metadata": {},
   "source": [
    "# **DWTX Stock Price Analysis**\n",
    "## **Overview**\n",
    "For the first part of the analysis, we are visualizing the price of DLAB stocks with a candlestick chart that measure in both a year and quarterly level.\n",
    "This visualization can show us...\n",
    "- **Price fluctuations** over time.\n",
    "- **Volume trends** to understand trading activity.\n",
    "- Potential **spikes or volatility** that might indicate significant events.\n",
    "\n",
    "We can observe key price movements and trading behaviors to assist in making informed financial decisions.\n"
   ]
  },
  {
   "cell_type": "code",
   "execution_count": 1023,
   "metadata": {},
   "outputs": [],
   "source": [
    "# Import necessary libraries\n",
    "import mplfinance as mpf\n",
    "import matplotlib.dates as mdates\n",
    "import matplotlib.pyplot as plt"
   ]
  },
  {
   "cell_type": "code",
   "execution_count": null,
   "metadata": {},
   "outputs": [],
   "source": [
    "# Plot candlestick chart on a year level\n",
    "mpf.plot(dwtx_ohlc.tail(365), type='candle', volume=True, title=\"DWTX Stock Price Trend\", ylabel=\"Price ($)\")\n",
    "mpf.show()"
   ]
  },
  {
   "cell_type": "markdown",
   "metadata": {},
   "source": [
    "# **Key Takeaways: DWTX Annual Stock Price Trend**\n",
    "\n",
    "### 1️. **Stable Price**\n",
    "-The stock price for DWTX has been consistent from the start up until recently in September 2024, we can see a positive jump, and an even bigger spike as of recently \n",
    "\n",
    "### 2️. **Volume**\n",
    "- There was a few increase of volume during it's consistent stock price time, but there were also large volume increase which was caused by the price spikes.\n",
    "\n",
    "### 3️. **Volatility**\n",
    "- The sudden change in stock price was able to set off the volatility in this stock, before it was stable and consistent. Now the stock has been showing movement.\n",
    "\n",
    "---\n"
   ]
  },
  {
   "cell_type": "code",
   "execution_count": 1025,
   "metadata": {},
   "outputs": [],
   "source": [
    "# Generate separate candlestick plots for each quarter of DWTX\n",
    "# Define custom market colors and chart style\n",
    "mc = mpf.make_marketcolors(up='green', down='red', wick='black', edge='black', volume='blue')\n",
    "s = mpf.make_mpf_style(base_mpl_style='classic', marketcolors=mc)"
   ]
  },
  {
   "cell_type": "code",
   "execution_count": 1026,
   "metadata": {},
   "outputs": [],
   "source": [
    "# Convert Date index to datetime format (if not already converted)\n",
    "dwtx_ohlc.index = pd.to_datetime(dwtx_ohlc.index)"
   ]
  },
  {
   "cell_type": "code",
   "execution_count": 1027,
   "metadata": {},
   "outputs": [],
   "source": [
    "# Function to filter and plot data for each quarter\n",
    "def plot_quarter(title, year, months, extra_year=None, extra_months=None):\n",
    "    \"\"\"\n",
    "    Plots the candlestick chart for a given quarter.\n",
    "\n",
    "    Parameters:\n",
    "    - title: Title of the plot (e.g., \"Q1 2024\")\n",
    "    - year: Year to filter data\n",
    "    - months: List of months in the quarter\n",
    "    - extra_year: Additional year if needed (e.g., extending Q4 into January)\n",
    "    - extra_months: Extra months from the additional year\n",
    "    \"\"\"\n",
    "\n",
    "    # Filter the data for the given year and months\n",
    "    quarter_data = dwtx_ohlc[(dwtx_ohlc.index.year == year) & (dwtx_ohlc.index.month.isin(months))]\n",
    "\n",
    "    # If extra months from another year are needed (e.g., Q4 extending to January of next year)\n",
    "    if extra_year and extra_months:\n",
    "        extra_data = dwtx_ohlc[(dwtx_ohlc.index.year == extra_year) & (dwtx_ohlc.index.month.isin(extra_months))]\n",
    "        quarter_data = pd.concat([quarter_data, extra_data]).sort_index()  # Merge and sort\n",
    "\n",
    "    # If there is no data for the selected period, print a message and return\n",
    "    if quarter_data.empty:\n",
    "        print(f\"No data for {title}\")\n",
    "        return\n",
    "\n",
    "    # Plot candlestick chart for the selected quarter\n",
    "    fig, ax = mpf.plot(quarter_data, type='candle', volume=True,\n",
    "                       title=f\"DWTX Stock Price Trend ({title})\",\n",
    "                       ylabel=\"Price ($)\",\n",
    "                       xlabel=\"Date\",\n",
    "                       style=s,\n",
    "                       mav=(10, 20, 50),  # Moving Averages (10-day, 20-day, 50-day)\n",
    "                       figsize=(10, 6),\n",
    "                       tight_layout=True,\n",
    "                       returnfig=True)\n",
    "\n",
    "    # Rotate x-axis labels for better readability\n",
    "    fig.autofmt_xdate()\n",
    "\n",
    "    # Show the plot\n",
    "    plt.show()"
   ]
  },
  {
   "cell_type": "code",
   "execution_count": null,
   "metadata": {},
   "outputs": [],
   "source": [
    "# Generate candlestick charts for each quarter of 2024\n",
    "plot_quarter(\"Q1 (Jan-Mar 2024)\", 2024, [1, 2, 3])    # First quarter\n",
    "plot_quarter(\"Q2 (Apr-Jun 2024)\", 2024, [4, 5, 6])    # Second quarter\n",
    "plot_quarter(\"Q3 (Jul-Sep 2024)\", 2024, [7, 8, 9])    # Third quarter\n",
    "plot_quarter(\"Q4 (Oct-Dec 2024 + Jan 2025)\", 2024, [10, 11, 12], extra_year=2025, extra_months=[1])  \n",
    "# Fourth quarter extends to January 2025"
   ]
  },
  {
   "cell_type": "markdown",
   "metadata": {},
   "source": [
    "# **📊 Key Takeaways from DWTX's Quarterly Stock Price Trends**\n",
    "\n",
    "### **Q1 (Jan-Mar 2024)**\n",
    "- There was a sudden drop of price in early quarter\n",
    "- It became stable after the sudden drop but still showing it in the negative direction\n",
    "- near the end of the quarter we can see that it just starting to make positive movement.\n",
    "\n",
    "### **Q2 (Apr-Jun 2024)**\n",
    "- This quarter showed the stock price making negative movment, followed by a small price drop in middle quarter\n",
    "- Once stabilized, we are able to see an increase in volume which could mean investors were interested once they found that the stock would not be risky.\n",
    "\n",
    "### **Q3 (Jul-Sep 2024)**\n",
    "- The stock price had steady increase before dropping again.\n",
    "- After that, the price has not been somewhat stable as it is making both positive and negative movements equally.\n",
    "\n",
    "### **Q4 (Oct-Dec 2024) + Jan 2025**\n",
    "- The price has been really stable based on this perspective because there was a huge price spike in January.\n",
    "\n",
    "### **Overall Insights**\n",
    "- During the first 4 quarters we can relatively see that the stock price has no big movements and has remained stable.\n",
    "- Suddenly when the new year began, stock price spiked up and set off votalitity. \n",
    "\n",
    "---\n",
    "\n"
   ]
  },
  {
   "cell_type": "markdown",
   "metadata": {},
   "source": [
    "# **ELAB Stock Price Analysis**\n",
    "## **Overview**\n",
    "Continuing the same analysis and visualization, we are not making a same candestick graph for ELAB to help us analyze the stock price.\n",
    "\n",
    "This visualization can show us...\n",
    "- **Price fluctuations** over time.\n",
    "- **Volume trends** to understand trading activity.\n",
    "- Potential **spikes or volatility** that might indicate significant events.\n",
    "\n",
    "We can observe key price movements and trading behaviors to assist in making informed financial decisions.\n"
   ]
  },
  {
   "cell_type": "code",
   "execution_count": null,
   "metadata": {},
   "outputs": [],
   "source": [
    "# Plot candlestick chart\n",
    "mpf.plot(elab_ohlc, type='candle', volume=True, title=\"ELAB Stock Price Trend\", ylabel=\"Price ($)\")\n",
    "mpf.show()"
   ]
  },
  {
   "cell_type": "markdown",
   "metadata": {},
   "source": [
    "# **Key Takeaways: DWTX Annual Stock Price Trend**\n",
    "\n",
    "### 1️. **Stability**\n",
    "- Stock price of ELAB has shown negative movements for the most part. \n",
    "- It is not able to be at a stable state.\n",
    "\n",
    "### 2️. **Volume**\n",
    "- There was no increase in volume during the whole time the stock price was decreasing.\n",
    "- Only when the price shot up in a spike did an increase of volume followed.\n",
    "\n",
    "### 3️. **Volatility**\n",
    "- There is some volatitity, ther has been a big spike during the time the price was decreasing, and again in mid November\n",
    "- I found it interesting that there was no increase of volume when there was a spike in December 2023.\n",
    "---\n"
   ]
  },
  {
   "cell_type": "code",
   "execution_count": 1030,
   "metadata": {},
   "outputs": [],
   "source": [
    "# Generate separate candlestick plots for each quarter of DWTX\n",
    "# Define market colors and style for visualization\n",
    "mc = mpf.make_marketcolors(up='green', down='red', wick='black', edge='black', volume='blue')\n",
    "s = mpf.make_mpf_style(base_mpl_style='classic', marketcolors=mc)"
   ]
  },
  {
   "cell_type": "code",
   "execution_count": 1031,
   "metadata": {},
   "outputs": [],
   "source": [
    "# Convert Date index to datetime format \n",
    "elab_ohlc.index = pd.to_datetime(elab_ohlc.index)"
   ]
  },
  {
   "cell_type": "code",
   "execution_count": 1032,
   "metadata": {},
   "outputs": [],
   "source": [
    "# Function to filter and plot data for each quarter\n",
    "def plot_quarter(title, year, months, extra_year=None, extra_months=None):\n",
    "    \"\"\"\n",
    "    Filters and plots ELAB stock data for a given quarter.\n",
    "\n",
    "    Parameters:\n",
    "    - title: Title of the plot\n",
    "    - year: Year to filter data\n",
    "    - months: List of months to include\n",
    "    - extra_year: Additional year to include for extended periods (optional)\n",
    "    - extra_months: Additional months from extra_year (optional)\n",
    "    \"\"\"\n",
    "    \n",
    "    # Filter data for the specified quarter and year\n",
    "    quarter_data = elab_ohlc[(elab_ohlc.index.year == year) & (elab_ohlc.index.month.isin(months))]\n",
    "\n",
    "    # If extra months from another year are needed (e.g., Q4 extending into January of the next year)\n",
    "    if extra_year and extra_months:\n",
    "        extra_data = elab_ohlc[(elab_ohlc.index.year == extra_year) & (elab_ohlc.index.month.isin(extra_months))]\n",
    "        quarter_data = pd.concat([quarter_data, extra_data]).sort_index()\n",
    "\n",
    "    # If no data is found for the given period, print a message and exit function\n",
    "    if quarter_data.empty:\n",
    "        print(f\"No data for {title}\")\n",
    "        return\n",
    "\n",
    "    # Generate candlestick plot with volume\n",
    "    fig, ax = mpf.plot(\n",
    "        quarter_data, type='candle', volume=True,\n",
    "        title=f\"ELAB Stock Price Trend ({title})\",\n",
    "        ylabel=\"Price ($)\",\n",
    "        xlabel=\"Date\",\n",
    "        style=s,\n",
    "        mav=(10, 20, 50),  # Moving Averages: 10-day, 20-day, 50-day\n",
    "        figsize=(10,6),\n",
    "        tight_layout=True,\n",
    "        returnfig=True  # Returns figure and axis for further customization\n",
    "    )\n",
    "\n",
    "    # Rotate x-axis labels for better readability\n",
    "    fig.autofmt_xdate()\n",
    "\n",
    "    # Show the plot\n",
    "    plt.show()"
   ]
  },
  {
   "cell_type": "code",
   "execution_count": null,
   "metadata": {},
   "outputs": [],
   "source": [
    "# Generate separate plots for each quarter in 2024\n",
    "plot_quarter(\"Q1 (Jan-Mar 2024)\", 2024, [1, 2, 3]) \n",
    "plot_quarter(\"Q2 (Apr-Jun 2024)\", 2024, [4, 5, 6])\n",
    "plot_quarter(\"Q3 (Jul-Sep 2024)\", 2024, [7, 8, 9])\n",
    "plot_quarter(\"Q4 (Oct-Dec 2024 + Jan 2025)\", 2024, [10, 11, 12], extra_year=2025, extra_months=[1])  # Jan 2025 only appears in Q4"
   ]
  },
  {
   "cell_type": "markdown",
   "metadata": {},
   "source": [
    "# **📊 Key Takeaways from DWTX's Quarterly Stock Price Trends**\n",
    "\n",
    "### **Q1 (Jan-Mar 2024)**\n",
    "- With some decrease, the price has been kept stable.\n",
    "\n",
    "### **Q2 (Apr-Jun 2024)**\n",
    "- Stock price has been both decrease and increasing.\n",
    "- Volume increased when stock price increased, but none during other times in the quarter\n",
    "\n",
    "### **Q3 (Jul-Sep 2024)**\n",
    "- For Q3, the stock price has been gradually decreasing.\n",
    "- It only stabilizes at the end of the quarter.\n",
    "\n",
    "### **Q4 (Oct-Dec 2024) + Jan 2025**\n",
    "- For the first half, it price has been very stable.\n",
    "- the price increased during halfway and has been trying to stable after that.\n",
    "\n",
    "### **Overall Insights**\n",
    "- As mentioned before, the stock price has been decreasing for the most part, and then a suddeny price increase in November.\n",
    "\n",
    "---\n",
    "\n"
   ]
  },
  {
   "cell_type": "markdown",
   "metadata": {},
   "source": [
    "# **Volatility & Risk Analysis**\n",
    "\n",
    "### 1️. Standard Deviation of Returns (Volatility)\n",
    "- The **standard deviation of daily returns** is used to calculate and compare the volatility between stocks\n",
    "- A **bar chart** visualizes which stock exhibits higher volatility.\n",
    "- This helps assess the relative risk profile of both stocks.\n",
    "\n",
    "### 2️. Rolling Volatility\n",
    "- A **rolling standard deviation** is computed to track volatility trends over time.\n",
    "- The **line plot** compares fluctuations in risk for both stocks.\n",
    "- This helps identify **periods of high volatility** and potential market-moving events."
   ]
  },
  {
   "cell_type": "code",
   "execution_count": 1034,
   "metadata": {},
   "outputs": [],
   "source": [
    "start_date = \"2024-10-01\"\n",
    "dwtx_filtered = dwtx_ohlc.loc[start_date:].copy()\n",
    "elab_filtered = elab_ohlc.loc[start_date:].copy()"
   ]
  },
  {
   "cell_type": "code",
   "execution_count": 1035,
   "metadata": {},
   "outputs": [],
   "source": [
    "# Compute daily returns\n",
    "dwtx_filtered['Daily Return'] = dwtx_filtered['Close'].pct_change()\n",
    "elab_filtered['Daily Return'] = elab_filtered['Close'].pct_change()"
   ]
  },
  {
   "cell_type": "code",
   "execution_count": 1036,
   "metadata": {},
   "outputs": [],
   "source": [
    "# Calculate standard deviation of returns (volatility)\n",
    "dwtx_volatility = dwtx_filtered['Daily Return'].std()\n",
    "elab_volatility = elab_filtered['Daily Return'].std()"
   ]
  },
  {
   "cell_type": "code",
   "execution_count": null,
   "metadata": {},
   "outputs": [],
   "source": [
    "# Plot adjusted volatility comparison\n",
    "plt.figure(figsize=(8, 5))\n",
    "plt.bar(['DWTX', 'ELAB'], [dwtx_volatility, elab_volatility], color=['blue', 'red'])\n",
    "plt.ylabel('Standard Deviation of Returns')\n",
    "plt.title('Volatility Comparison: YIBO vs AVGX (Aug 2024 Onward)')\n",
    "plt.grid(axis='y', linestyle='--', alpha=0.7)\n",
    "plt.show()"
   ]
  },
  {
   "cell_type": "markdown",
   "metadata": {},
   "source": [
    "# **Key Takeaways: Volatility Comparison**\n",
    "\n",
    "### Observations:\n",
    "- ELAB shows significantly more Standard deviation of returns than DWTX. This means that the volatility is significantly higher as well as the two values\n",
    "- The ELAB stock prices has shown more movements whether it be good or bad. Volatility could be good, but it is more risky. And based on the prevous trends, it mightn not end well with ELAB.\n",
    "- Since DWTX has a much lower return, this means it has a very low volatility. Making DWTX a very stable stock.\n",
    "\n",
    "\n",
    "\n",
    "---"
   ]
  },
  {
   "cell_type": "code",
   "execution_count": 1038,
   "metadata": {},
   "outputs": [],
   "source": [
    "# Set the start date for filtering\n",
    "start_date = \"2024-10-01\"\n",
    "\n",
    "# Filter data and create copies\n",
    "dwtx_filtered = dwtx_ohlc.loc[start_date:].copy()\n",
    "elab_filtered = elab_ohlc.loc[start_date:].copy()"
   ]
  },
  {
   "cell_type": "code",
   "execution_count": 1039,
   "metadata": {},
   "outputs": [],
   "source": [
    "# Compute daily returns\n",
    "dwtx_filtered['Daily Return'] = dwtx_filtered['Close'].pct_change()\n",
    "elab_filtered['Daily Return'] = elab_filtered['Close'].pct_change()"
   ]
  },
  {
   "cell_type": "code",
   "execution_count": 1040,
   "metadata": {},
   "outputs": [],
   "source": [
    "# Compute rolling standard deviation (volatility)\n",
    "dwtx_filtered['Rolling Volatility'] = dwtx_filtered['Daily Return'].rolling(window=30).std()\n",
    "elab_filtered['Rolling Volatility'] = elab_filtered['Daily Return'].rolling(window=30).std()"
   ]
  },
  {
   "cell_type": "code",
   "execution_count": null,
   "metadata": {},
   "outputs": [],
   "source": [
    "# Plot rolling volatility for both stocks\n",
    "plt.figure(figsize=(12, 6))\n",
    "plt.plot(dwtx_filtered.index, dwtx_filtered['Rolling Volatility'], label='DWTX', color='blue')\n",
    "plt.plot(elab_filtered.index, elab_filtered['Rolling Volatility'], label='ELAB', color='red')\n",
    "\n",
    "# Formatting the plot\n",
    "plt.title('Rolling Volatility: DWTX vs ELAB (Aug 22, 2024 Onward)')\n",
    "plt.xlabel('Date')\n",
    "plt.ylabel('Rolling Standard Deviation')\n",
    "plt.legend()\n",
    "plt.grid(True, linestyle='--', alpha=0.7)\n",
    "\n",
    "# Show plot\n",
    "plt.show()"
   ]
  },
  {
   "cell_type": "markdown",
   "metadata": {},
   "source": [
    "# **Key Takeaways: Rolling Voltality (DWTX vs ELAB)**\n",
    "\n",
    "---"
   ]
  },
  {
   "cell_type": "markdown",
   "metadata": {},
   "source": [
    "## **🚀 Analyzing YIBO & AVGX Against a Market Index**\n",
    "To gain a deeper understanding of the performance and volatility of **YIBO** and **AVGX**, we are incorporating a **market index** for comparison. By analyzing these stocks against the **S&P 500 ETF (SPY)**, we can assess how they move in relation to the broader market and identify potential correlations.\n",
    "\n",
    "### Approach:\n",
    "1. **Fetching Market Index Data:**\n",
    "   - We are using the **Alpha Vantage API** to retrieve historical daily adjusted closing prices for SPY.\n",
    "   - The API request pulls a complete dataset, which is then **stored as a JSON file** for further analysis.\n",
    "\n",
    "2. **Comparative Analysis:**\n",
    "   - The market index data will be used to evaluate how **YIBO and AVGX perform relative to broader market trends**.\n",
    "   - We will investigate **volatility patterns, correlations, and potential deviations** from the overall market behavior.\n",
    "   - The findings will help determine whether these stocks tend to **move with or against the market**, which is crucial for risk assessment and investment strategy.\n",
    "\n",
    "By integrating SPY as a benchmark, we aim to **contextualize the movements of YIBO and AVGX** within a larger economic framework."
   ]
  },
  {
   "cell_type": "code",
   "execution_count": 1042,
   "metadata": {},
   "outputs": [],
   "source": [
    "# Install Alpha Vantage\n",
    "# if needed - %pip install alpha_vantage"
   ]
  },
  {
   "cell_type": "code",
   "execution_count": 1043,
   "metadata": {},
   "outputs": [],
   "source": [
    "# Import necessary libraries for fetching and processing market data\n",
    "from alpha_vantage.timeseries import TimeSeries\n",
    "import requests\n",
    "import json\n",
    "import pandas as pd"
   ]
  },
  {
   "cell_type": "code",
   "execution_count": 1044,
   "metadata": {},
   "outputs": [],
   "source": [
    "# Import the API key securel\n",
    "# Sorry, I initially meant vantage..\n",
    "from david_apikey import alphavantage_apikey"
   ]
  },
  {
   "cell_type": "code",
   "execution_count": 1045,
   "metadata": {},
   "outputs": [],
   "source": [
    "# Define the market index symbol (S&P 500 ETF - SPY)\n",
    "symbol = \"SPY\""
   ]
  },
  {
   "cell_type": "code",
   "execution_count": 1046,
   "metadata": {},
   "outputs": [],
   "source": [
    "# Construct the API request URL to fetch daily adjusted closing prices\n",
    "url = 'https://www.alphavantage.co/query?function=TIME_SERIES_DAILY&symbol=SPY&outputsize=full&apikey=alpha_advantage_api'"
   ]
  },
  {
   "cell_type": "code",
   "execution_count": 1047,
   "metadata": {},
   "outputs": [],
   "source": [
    "# Send a GET request to the Alpha Vantage API to fetch market data\n",
    "r = requests.get(url)"
   ]
  },
  {
   "cell_type": "code",
   "execution_count": 1048,
   "metadata": {},
   "outputs": [],
   "source": [
    "# Parse the JSON response from the API\n",
    "data = r.json()"
   ]
  },
  {
   "cell_type": "code",
   "execution_count": null,
   "metadata": {},
   "outputs": [],
   "source": [
    "# Print a confirmation message along with the requested URL\n",
    "print(f\"Fetching data from URL: {url}\")"
   ]
  },
  {
   "cell_type": "code",
   "execution_count": null,
   "metadata": {},
   "outputs": [],
   "source": [
    "# Print the raw API response (JSON format) for verification\n",
    "print(data)"
   ]
  },
  {
   "cell_type": "code",
   "execution_count": null,
   "metadata": {},
   "outputs": [],
   "source": [
    "# Save the retrieved market index data to a JSON file for further analysis\n",
    "with open('market_index_data.json', 'w') as json_file:\n",
    "    json.dump(data, json_file, indent=4)\n",
    "\n",
    "# Confirm that the market data has been successfully saved\n",
    "print(\"Market index data saved to market_index_data.json\")"
   ]
  },
  {
   "cell_type": "markdown",
   "metadata": {},
   "source": [
    "## **Processing Market Index Data for Comparative Analysis**\n",
    "\n",
    "### Objective:\n",
    "To compare **YIBO** and **AVGX** against the **market index (S&P 500 ETF - SPY)**, the market index data retrieved from **Alpha Vantage** must be cleaned and formatted.\n",
    "\n",
    "### Approach:\n",
    "- **Load and Convert Data:**  \n",
    "  Read the JSON file containing historical market index data and convert it into a **Pandas DataFrame** for further manipulation.\n",
    "\n",
    "- **Data Cleaning & Formatting:**  \n",
    "  Rename columns for clarity, convert the **date index into a proper datetime format**, and reset the index so that **dates become a separate column**.\n",
    "\n",
    "- **Filtering for Relevant Dates:**  \n",
    "  Since **AVGX** IPOed on **August 22, 2024**, the data is filtered starting from **August 23, 2024**, to match the period analyzed for the individual stocks.\n",
    "\n",
    "With this structured approach, the market index data will be **ready for comparative analysis** with YIBO and AVGX."
   ]
  },
  {
   "cell_type": "code",
   "execution_count": 1052,
   "metadata": {},
   "outputs": [],
   "source": [
    "# Define the file path for the market index JSON data\n",
    "file_path = 'market_index_data.json'"
   ]
  },
  {
   "cell_type": "code",
   "execution_count": 1053,
   "metadata": {},
   "outputs": [],
   "source": [
    "# Open and load the JSON data into a Python dictionary\n",
    "with open(file_path, 'r') as json_file:\n",
    "    market_data = json.load(json_file)"
   ]
  },
  {
   "cell_type": "code",
   "execution_count": 1054,
   "metadata": {},
   "outputs": [],
   "source": [
    "# Extract the \"Time Series (Daily)\" data and convert it into a Pandas DataFrame\n",
    "market_index_df = pd.DataFrame.from_dict(market_data['Time Series (Daily)'], orient='index')"
   ]
  },
  {
   "cell_type": "code",
   "execution_count": 1055,
   "metadata": {},
   "outputs": [],
   "source": [
    "# Rename the column for closing price to \"Market Close\" and convert it to float\n",
    "market_index_df = market_index_df.rename(columns={\"4. close\": \"Market Close\"}).astype(float)"
   ]
  },
  {
   "cell_type": "code",
   "execution_count": 1056,
   "metadata": {},
   "outputs": [],
   "source": [
    "# Rename all columns for better readability\n",
    "market_index_df.rename(columns={\n",
    "    \"1. open\": \"Open\",\n",
    "    \"2. high\": \"High\",\n",
    "    \"3. low\": \"Low\",\n",
    "    \"4. close\": \"Market Close\",\n",
    "    \"5. volume\": \"Volume\"\n",
    "}, inplace=True)"
   ]
  },
  {
   "cell_type": "code",
   "execution_count": 1057,
   "metadata": {},
   "outputs": [],
   "source": [
    "# Convert the index (which contains dates as strings) into proper datetime format\n",
    "market_index_df.index = pd.to_datetime(market_index_df.index)"
   ]
  },
  {
   "cell_type": "code",
   "execution_count": 1058,
   "metadata": {},
   "outputs": [],
   "source": [
    "# Reset the index so that dates become a separate column\n",
    "market_index_df = market_index_df.reset_index()\n",
    "\n",
    "# Rename the new date column for clarity\n",
    "market_index_df.rename(columns={'index': 'Date'}, inplace=True)\n",
    "\n",
    "# Display the DataFrame to check the result# Display the first few rows to verify the cleaned dataset"
   ]
  },
  {
   "cell_type": "code",
   "execution_count": 1059,
   "metadata": {},
   "outputs": [],
   "source": [
    "# Filter the dataset to include only records from August 23, 2024, onward\n",
    "filtered_market_index_df = market_index_df[market_index_df['Date'] >= '2024-10-01']"
   ]
  },
  {
   "cell_type": "code",
   "execution_count": null,
   "metadata": {},
   "outputs": [],
   "source": [
    "# Display the filtered DataFrame\n",
    "print(filtered_market_index_df)"
   ]
  },
  {
   "cell_type": "markdown",
   "metadata": {},
   "source": [
    "## **Finalizing Market Index Data for Analysis**\n",
    "\n",
    "With the market index data successfully processed, the dataset now contains:  \n",
    "✔ **Clean and structured data** with clear column names.  \n",
    "✔ **Dates properly formatted** to align with YIBO and AVGX stock data.  \n",
    "✔ **Filtered data starting from August 23, 2024**, ensuring consistency in analysis.\n",
    "\n",
    "This dataset will now be used to **compare stock performance, volatility, and correlation** against broader market trends."
   ]
  },
  {
   "cell_type": "code",
   "execution_count": 1061,
   "metadata": {},
   "outputs": [],
   "source": [
    "#if needed pip install yfinance"
   ]
  },
  {
   "cell_type": "code",
   "execution_count": 1062,
   "metadata": {},
   "outputs": [],
   "source": [
    "import numpy as np\n",
    "import pandas as pd\n",
    "import matplotlib.pyplot as plt\n",
    "import yfinance as yf"
   ]
  },
  {
   "cell_type": "code",
   "execution_count": null,
   "metadata": {},
   "outputs": [],
   "source": [
    "# Fetch YIBO data\n",
    "dwtx = yf.download(\"DWTX\", start=\"2024-10-01\")\n",
    "\n",
    "# Fetch AVGX data\n",
    "elab = yf.download(\"ELAB\", start=\"2024-10-01\")"
   ]
  },
  {
   "cell_type": "code",
   "execution_count": 1064,
   "metadata": {},
   "outputs": [],
   "source": [
    "# Calculate daily returns\n",
    "dwtx['Daily Return'] = dwtx['Close'].pct_change()\n",
    "elab['Daily Return'] = elab['Close'].pct_change()"
   ]
  },
  {
   "cell_type": "code",
   "execution_count": null,
   "metadata": {},
   "outputs": [],
   "source": [
    "print(dwtx[['Close', 'Daily Return']].head())\n",
    "print(elab[['Close', 'Daily Return']].head())"
   ]
  },
  {
   "cell_type": "markdown",
   "metadata": {},
   "source": [
    "# **MARKET INDEX FILTERED DF CLEANING**"
   ]
  },
  {
   "cell_type": "code",
   "execution_count": 1066,
   "metadata": {},
   "outputs": [],
   "source": [
    "# Filter data between August 23, 2024, and January 29, 2025\n",
    "filtered_market_index_df = market_index_df[\n",
    "    (market_index_df['Date'] >= '2024-10-01') & \n",
    "    (market_index_df['Date'] <= '2025-01-29')\n",
    "].copy()"
   ]
  },
  {
   "cell_type": "code",
   "execution_count": 1067,
   "metadata": {},
   "outputs": [],
   "source": [
    "# Convert 'Market Close' column to numeric format for calculations\n",
    "filtered_market_index_df['Market Close'] = pd.to_numeric(\n",
    "    filtered_market_index_df['Market Close'], errors='coerce'\n",
    ")"
   ]
  },
  {
   "cell_type": "code",
   "execution_count": 1068,
   "metadata": {},
   "outputs": [],
   "source": [
    "# Calculate Market Return as the percentage change in 'Market Close'\n",
    "filtered_market_index_df['Market Return'] = filtered_market_index_df['Market Close'].pct_change()"
   ]
  },
  {
   "cell_type": "code",
   "execution_count": 1069,
   "metadata": {},
   "outputs": [],
   "source": [
    "# Sort the DataFrame by Date in ascending order\n",
    "filtered_market_index_df = filtered_market_index_df.sort_values(by='Date', ascending=True)"
   ]
  },
  {
   "cell_type": "code",
   "execution_count": 1070,
   "metadata": {},
   "outputs": [],
   "source": [
    "# Reset index to ensure proper alignment and display\n",
    "filtered_market_index_df = filtered_market_index_df.reset_index(drop=True)"
   ]
  },
  {
   "cell_type": "code",
   "execution_count": 1071,
   "metadata": {},
   "outputs": [],
   "source": [
    "# Reorder columns so 'Date' is the first column\n",
    "column_order = ['Date', 'Open', 'High', 'Low', 'Market Close', 'Volume', 'Market Return']\n",
    "filtered_market_index_df = filtered_market_index_df[column_order]"
   ]
  },
  {
   "cell_type": "code",
   "execution_count": 1072,
   "metadata": {},
   "outputs": [],
   "source": [
    "# Assign a new numerical index for readability\n",
    "filtered_market_index_df.index = range(1, len(filtered_market_index_df) + 1)"
   ]
  },
  {
   "cell_type": "code",
   "execution_count": 1073,
   "metadata": {},
   "outputs": [],
   "source": [
    "# Convert index to datetime format\n",
    "filtered_market_index_df.index = pd.to_datetime(filtered_market_index_df.index)"
   ]
  },
  {
   "cell_type": "code",
   "execution_count": null,
   "metadata": {},
   "outputs": [],
   "source": [
    "filtered_market_index_df"
   ]
  },
  {
   "cell_type": "markdown",
   "metadata": {},
   "source": [
    "- Tracking the historical performance of a market index provides valuable insight into broader trends. A dataset filtered from August 23, 2024, to January 29, 2025, captures key trading metrics during this period. Price movements, trading volume, and market returns reveal patterns that help measure stability and risk.\n",
    "\n",
    "- Comparing this dataset with individual stock performance requires structural consistency. Ensuring proper formatting allows for accurate statistical analysis. Market returns reflect fluctuations that influence investment decisions, and matching this with stock data enables a deeper understanding of risk exposure.\n",
    "\n",
    "- Evaluating volatility remains a priority. Identifying shifts in market conditions helps refine stock comparisons. Establishing a reliable framework for analysis ensures that data-driven conclusions are well-supported. Adjustments to the dataset will maintain clarity and accuracy, reinforcing its role in financial evaluation."
   ]
  },
  {
   "cell_type": "markdown",
   "metadata": {},
   "source": [
    "# **YIBO DF CLEANING**"
   ]
  },
  {
   "cell_type": "code",
   "execution_count": 1075,
   "metadata": {},
   "outputs": [],
   "source": [
    "# Flatten the multi-index column names if necessary\n",
    "dwtx.columns = ['_'.join(col).strip() if isinstance(col, tuple) else col for col in dwtx.columns]"
   ]
  },
  {
   "cell_type": "code",
   "execution_count": 1076,
   "metadata": {},
   "outputs": [],
   "source": [
    "# Drop unnecessary index columns if they exist \n",
    "   # columns_to_drop = ['level_0', 'index'] \n",
    "   # dwtx = dwtx.drop(columns=[col for col in columns_to_drop if col in dwtx.columns])"
   ]
  },
  {
   "cell_type": "code",
   "execution_count": 1077,
   "metadata": {},
   "outputs": [],
   "source": [
    "# Reset index to move Date into a regular column \n",
    "dwtx.reset_index(inplace=True)"
   ]
  },
  {
   "cell_type": "code",
   "execution_count": 1078,
   "metadata": {},
   "outputs": [],
   "source": [
    "# Convert index to datetime format\n",
    "dwtx.index = pd.to_datetime(dwtx.index)"
   ]
  },
  {
   "cell_type": "code",
   "execution_count": 1079,
   "metadata": {},
   "outputs": [],
   "source": [
    "# Filter to only keep rows where Date is within the desired range\n",
    "dwtx = dwtx[dwtx['Date'] <= '2025-01-29']"
   ]
  },
  {
   "cell_type": "code",
   "execution_count": null,
   "metadata": {},
   "outputs": [],
   "source": [
    "dwtx"
   ]
  },
  {
   "cell_type": "code",
   "execution_count": null,
   "metadata": {},
   "outputs": [],
   "source": [
    "print(dwtx.columns)"
   ]
  },
  {
   "cell_type": "code",
   "execution_count": null,
   "metadata": {},
   "outputs": [],
   "source": [
    "print(dwtx.index.dtype)  \n",
    "print(filtered_market_index_df.index.dtype)"
   ]
  },
  {
   "cell_type": "markdown",
   "metadata": {},
   "source": [
    "- A structured dataset serves as the foundation for analyzing YIBO’s performance within a defined period. Ensuring data consistency requires adjusting column formats and filtering based on relevant time frames. Proper indexing, along with column restructuring, establishes the framework for meaningful comparisons.\n",
    "\n",
    "- Formatting steps include eliminating redundant index columns, standardizing date formats, and confirming that the dataset aligns with broader market data. A direct comparison between YIBO and the market index necessitates these adjustments, allowing for accurate statistical evaluations such as return correlations and volatility assessments.\n",
    "\n",
    "- Examining the filtered data provides insight into YIBO’s price trends, volume fluctuations, and return behavior. Ensuring alignment between the YIBO dataset and the market index supports a broader risk assessment framework, helping to contextualize stock behavior within overall market conditions.\n",
    "\n",
    "---"
   ]
  },
  {
   "cell_type": "markdown",
   "metadata": {},
   "source": [
    "# **📊 Understanding YIBO's Beta: Market Sensitivity Analysis**\n",
    "\n",
    "Before diving into the visualization, the **Beta value** for YIBO is determined to assess how the stock moves in relation to the overall market. This is accomplished by calculating the **covariance between YIBO’s daily returns and market returns**, then dividing it by the **variance of market returns**. \n",
    "\n",
    "A regression analysis follows, where **YIBO’s daily returns** are plotted against **market returns** to visualize the relationship. The **slope of the regression line represents the Beta value**, quantifying YIBO’s risk exposure relative to the market."
   ]
  },
  {
   "cell_type": "code",
   "execution_count": 1083,
   "metadata": {},
   "outputs": [],
   "source": [
    "# Merge YIBO with Market Index on Date\n",
    "dwtx_merged_data = pd.merge(dwtx[['Date', 'Daily Return_']],\n",
    "                       filtered_market_index_df[['Date', 'Market Return']], \n",
    "                       on='Date', how='inner')"
   ]
  },
  {
   "cell_type": "code",
   "execution_count": 1084,
   "metadata": {},
   "outputs": [],
   "source": [
    "# Rename columns for clarity\n",
    "dwtx_merged_data.rename(columns={'Daily Return_': 'DWTX Daily Return'}, inplace=True)"
   ]
  },
  {
   "cell_type": "code",
   "execution_count": null,
   "metadata": {},
   "outputs": [],
   "source": [
    "# Display first few rows\n",
    "print(dwtx_merged_data.head())"
   ]
  },
  {
   "cell_type": "code",
   "execution_count": 1086,
   "metadata": {},
   "outputs": [],
   "source": [
    "# Compute covariance matrix\n",
    "cov_matrix = dwtx_merged_data[['DWTX Daily Return', 'Market Return']].cov()\n",
    "\n",
    "# Extract covariance of YIBO vs. Market\n",
    "cov_dwtx_market = cov_matrix.iloc[0, 1]\n",
    "\n",
    "# Extract variance of Market Returns\n",
    "var_market = cov_matrix.iloc[1, 1]\n",
    "\n",
    "# Calculate Beta\n",
    "dwtx_beta = cov_dwtx_market / var_market"
   ]
  },
  {
   "cell_type": "code",
   "execution_count": null,
   "metadata": {},
   "outputs": [],
   "source": [
    "# Print Beta value\n",
    "print(f\"DWTX Beta: {dwtx_beta:.3f}\")"
   ]
  },
  {
   "cell_type": "code",
   "execution_count": 1088,
   "metadata": {},
   "outputs": [],
   "source": [
    "# Import libraries\n",
    "import matplotlib.pyplot as plt\n",
    "import seaborn as sns\n",
    "import numpy as np"
   ]
  },
  {
   "cell_type": "code",
   "execution_count": null,
   "metadata": {},
   "outputs": [],
   "source": [
    "# Compute Beta\n",
    "beta_value = dwtx_merged_data[['DWTX Daily Return', 'Market Return']].cov().iloc[0, 1] / dwtx_merged_data['Market Return'].var()\n",
    "\n",
    "# Plot again with annotation\n",
    "plt.figure(figsize=(10, 6))\n",
    "sns.regplot(x=dwtx_merged_data['Market Return'], \n",
    "            y=dwtx_merged_data['DWTX Daily Return'], \n",
    "            scatter_kws={'alpha': 0.5}, \n",
    "            line_kws={'color': 'red'})\n",
    "\n",
    "# Add labels and title\n",
    "plt.xlabel('Market Return')\n",
    "plt.ylabel('DWTX Daily Return')\n",
    "plt.title(f'DWTX Beta: {beta_value:.3f} (Slope of Regression Line)')\n",
    "\n",
    "# Show the plot\n",
    "plt.show()"
   ]
  },
  {
   "cell_type": "markdown",
   "metadata": {},
   "source": [
    "# 📉 Interpreting the Regression Plot\n",
    "\n",
    "The scatter plot displays **YIBO’s daily returns (y-axis) against market returns (x-axis)**, with a **red regression line** fitted to illustrate the trend. The **slope of this line (1.362)** represents YIBO’s Beta, indicating that YIBO is **36.2% more volatile than the market**. \n",
    "\n",
    "- A **steep slope (>1)** suggests YIBO reacts more aggressively to market fluctuations.\n",
    "- The **shaded region around the line** represents the **confidence interval**, offering insight into the variability of this relationship.\n",
    "- **Data points spread widely from the regression line** highlight some inconsistency in YIBO’s reaction to market movements, possibly due to external factors influencing its price.\n",
    "\n",
    "Traders and investors can use this insight to assess risk, with a high Beta stock like YIBO being a **potentially rewarding but riskier investment** in comparison to lower Beta alternatives."
   ]
  },
  {
   "cell_type": "markdown",
   "metadata": {},
   "source": [
    "# **AVGX DF CLEANING**"
   ]
  },
  {
   "cell_type": "code",
   "execution_count": 1090,
   "metadata": {},
   "outputs": [],
   "source": [
    "# Flatten the multi-index column names if necessary\n",
    "elab.columns = ['_'.join(col).strip() if isinstance(col, tuple) else col for col in elab.columns]"
   ]
  },
  {
   "cell_type": "code",
   "execution_count": 1091,
   "metadata": {},
   "outputs": [],
   "source": [
    "# Drop unnecessary index columns if they exist \n",
    "   # columns_to_drop = ['level_0', 'index'] \n",
    "   # elab = elab.drop(columns=[col for col in columns_to_drop if col in elab.columns])"
   ]
  },
  {
   "cell_type": "code",
   "execution_count": 1092,
   "metadata": {},
   "outputs": [],
   "source": [
    "# Reset index to move Date into a regular column \n",
    "elab.reset_index(inplace=True)"
   ]
  },
  {
   "cell_type": "code",
   "execution_count": 1093,
   "metadata": {},
   "outputs": [],
   "source": [
    "# Convert index to datetime format\n",
    "elab.index = pd.to_datetime(elab.index)"
   ]
  },
  {
   "cell_type": "code",
   "execution_count": 1094,
   "metadata": {},
   "outputs": [],
   "source": [
    "# Filter to only keep rows where Date is within the desired range\n",
    "elab = elab[elab['Date'] <= '2025-01-29']"
   ]
  },
  {
   "cell_type": "code",
   "execution_count": null,
   "metadata": {},
   "outputs": [],
   "source": [
    "elab"
   ]
  },
  {
   "cell_type": "code",
   "execution_count": null,
   "metadata": {},
   "outputs": [],
   "source": [
    "print(elab.columns)"
   ]
  },
  {
   "cell_type": "code",
   "execution_count": null,
   "metadata": {},
   "outputs": [],
   "source": [
    "print(elab.index.dtype)  "
   ]
  },
  {
   "cell_type": "markdown",
   "metadata": {},
   "source": [
    "- A structured dataset serves as the foundation for analyzing YIBO’s performance within a defined period. Ensuring data consistency requires adjusting column formats and filtering based on relevant time frames. Proper indexing, along with column restructuring, establishes the framework for meaningful comparisons.\n",
    "\n",
    "- Formatting steps include eliminating redundant index columns, standardizing date formats, and confirming that the dataset aligns with broader market data. A direct comparison between YIBO and the market index necessitates these adjustments, allowing for accurate statistical evaluations such as return correlations and volatility assessments.\n",
    "\n",
    "- Examining the filtered data provides insight into YIBO’s price trends, volume fluctuations, and return behavior. Ensuring alignment between the YIBO dataset and the market index supports a broader risk assessment framework, helping to contextualize stock behavior within overall market conditions.\n",
    "\n",
    "---"
   ]
  },
  {
   "cell_type": "markdown",
   "metadata": {},
   "source": [
    "# **📊 Understanding AVGX's Beta: Market Sensitivity Analysis**\n",
    "\n",
    "Before diving into the visualization, the **Beta value** for AVGX is determined to assess how the stock moves in relation to the overall market. This is accomplished by calculating the **covariance between AVGX’s daily returns and market returns**, then dividing it by the **variance of market returns**. \n",
    "\n",
    "A regression analysis follows, where **AVGX’s daily returns** are plotted against **market returns** to visualize the relationship. The **slope of the regression line represents the Beta value**, quantifying YIBO’s risk exposure relative to the market."
   ]
  },
  {
   "cell_type": "code",
   "execution_count": 1098,
   "metadata": {},
   "outputs": [],
   "source": [
    "# Merge AVGX with Market Index on Date\n",
    "elab_merged_data = pd.merge(elab[['Date', 'Daily Return_']],\n",
    "                       filtered_market_index_df[['Date', 'Market Return']], \n",
    "                       on='Date', how='inner')"
   ]
  },
  {
   "cell_type": "code",
   "execution_count": 1099,
   "metadata": {},
   "outputs": [],
   "source": [
    "# Rename columns for clarity\n",
    "elab_merged_data.rename(columns={'Daily Return_': 'ELAB Daily Return'}, inplace=True)"
   ]
  },
  {
   "cell_type": "code",
   "execution_count": null,
   "metadata": {},
   "outputs": [],
   "source": [
    "# Display first few rows\n",
    "print(elab_merged_data.head())"
   ]
  },
  {
   "cell_type": "code",
   "execution_count": 1101,
   "metadata": {},
   "outputs": [],
   "source": [
    "# Compute covariance matrix\n",
    "cov_matrix = elab_merged_data[['ELAB Daily Return', 'Market Return']].cov()\n",
    "\n",
    "# Extract covariance of AVGX vs. Market\n",
    "cov_ELAB_market = cov_matrix.iloc[0, 1]\n",
    "\n",
    "# Extract variance of Market Returns\n",
    "var_market = cov_matrix.iloc[1, 1]\n",
    "\n",
    "# Calculate Beta\n",
    "elab_beta = cov_ELAB_market / var_market"
   ]
  },
  {
   "cell_type": "code",
   "execution_count": null,
   "metadata": {},
   "outputs": [],
   "source": [
    "# Print Beta value\n",
    "print(f\"ELAB Beta: {elab_beta:.3f}\")"
   ]
  },
  {
   "cell_type": "code",
   "execution_count": 1103,
   "metadata": {},
   "outputs": [],
   "source": [
    "import matplotlib.pyplot as plt\n",
    "import seaborn as sns\n",
    "import numpy as np"
   ]
  },
  {
   "cell_type": "code",
   "execution_count": null,
   "metadata": {},
   "outputs": [],
   "source": [
    "# Compute Beta\n",
    "beta_value = elab_merged_data[['ELAB Daily Return', 'Market Return']].cov().iloc[0, 1] / elab_merged_data['Market Return'].var()\n",
    "\n",
    "# Plot again with annotation\n",
    "plt.figure(figsize=(10, 6))\n",
    "sns.regplot(x=elab_merged_data['Market Return'], \n",
    "            y=elab_merged_data['ELAB Daily Return'], \n",
    "            scatter_kws={'alpha': 0.5}, \n",
    "            line_kws={'color': 'red'})\n",
    "\n",
    "# Add labels and title\n",
    "plt.xlabel('Market Return')\n",
    "plt.ylabel('ELAB Daily Return')\n",
    "plt.title(f'ELAB Beta: {beta_value:.3f} (Slope of Regression Line)')\n",
    "\n",
    "# Show the plot\n",
    "plt.show()"
   ]
  },
  {
   "cell_type": "markdown",
   "metadata": {},
   "source": [
    "# 📉 Interpreting the Regression Plot\n",
    "\n",
    "The scatter plot maps **AVGX’s daily returns (y-axis) against market returns (x-axis)**, with a **red regression line** representing the trend. The slope of this line (0.136) determines **AVGX’s Beta**, indicating that AVGX moves far less than the overall market.\n",
    "\n",
    "- **A Beta of 0.136** suggests that AVGX is significantly less volatile than the market. When the market moves, AVGX experiences **only a fraction of the impact**.\n",
    "- The **flat slope** of the regression line reflects **minimal correlation** between AVGX and market fluctuations.\n",
    "- The **shaded confidence interval** around the line highlights variability in this relationship, showing that AVGX does not consistently follow market trends.\n",
    "\n",
    "Investors looking for **stability** may find AVGX appealing since its **low Beta** suggests **limited exposure to broader market volatility**. However, this also means **less opportunity for high returns during market upswings**.\n",
    "\n",
    "---"
   ]
  },
  {
   "cell_type": "markdown",
   "metadata": {},
   "source": [
    "# **YIBO vs. AVGX: A Tale of Two Risk Profiles**\n",
    "\n",
    "Stock behavior reveals more than just numbers—it tells a story of how assets respond to market forces. YIBO and AVGX move differently, and their regression plots capture the essence of that contrast. \n",
    "\n",
    "## **Market Sensitivity and Risk Exposure**\n",
    "YIBO’s beta soars to **1.362**, signaling a strong reaction to market movements. Prices swing wider, offering higher potential returns but at the cost of increased uncertainty. AVGX, with a beta of **0.136**, moves cautiously, resisting extreme fluctuations and maintaining steadier returns. \n",
    "\n",
    "## **Volatility in Action**\n",
    "YIBO’s price movements scatter aggressively across the regression plot. The spread of data points indicates **erratic price behavior**, reflecting a stock that reacts swiftly to shifts in sentiment, speculation, or external forces. The AVGX plot tells a different story—returns remain close to the regression line, reinforcing **predictability and lower volatility**.\n",
    "\n",
    "## **Investment Takeaways**\n",
    "A high-risk, high-reward approach aligns with YIBO’s behavior. It thrives in strong markets, but downturns expose its instability. AVGX appeals to those prioritizing **capital preservation**, offering consistency without the rollercoaster of price swings. \n",
    "\n",
    "## **Final Thoughts**\n",
    "Both stocks serve different roles in a portfolio. One embraces risk, the other avoids it. Understanding these behaviors allows for **strategic investment decisions**, whether the goal is to chase high returns or seek shelter in stability."
   ]
  }
 ],
 "metadata": {
  "kernelspec": {
   "display_name": "base",
   "language": "python",
   "name": "python3"
  },
  "language_info": {
   "codemirror_mode": {
    "name": "ipython",
    "version": 3
   },
   "file_extension": ".py",
   "mimetype": "text/x-python",
   "name": "python",
   "nbconvert_exporter": "python",
   "pygments_lexer": "ipython3",
   "version": "3.12.4"
  }
 },
 "nbformat": 4,
 "nbformat_minor": 2
}
