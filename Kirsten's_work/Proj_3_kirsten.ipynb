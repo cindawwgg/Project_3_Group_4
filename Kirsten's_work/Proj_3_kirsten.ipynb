{
 "cells": [
  {
   "cell_type": "markdown",
   "metadata": {},
   "source": [
    "Used for comparison against SPY ETF."
   ]
  },
  {
   "cell_type": "code",
   "execution_count": 29,
   "metadata": {},
   "outputs": [
    {
     "name": "stdout",
     "output_type": "stream",
     "text": [
      "Requirement already satisfied: mplfinance in c:\\users\\kcalo\\anaconda3\\lib\\site-packages (0.12.10b0)Note: you may need to restart the kernel to use updated packages.\n",
      "\n",
      "Requirement already satisfied: matplotlib in c:\\users\\kcalo\\anaconda3\\lib\\site-packages (from mplfinance) (3.8.4)\n",
      "Requirement already satisfied: pandas in c:\\users\\kcalo\\anaconda3\\lib\\site-packages (from mplfinance) (2.2.2)\n",
      "Requirement already satisfied: contourpy>=1.0.1 in c:\\users\\kcalo\\anaconda3\\lib\\site-packages (from matplotlib->mplfinance) (1.2.0)\n",
      "Requirement already satisfied: cycler>=0.10 in c:\\users\\kcalo\\anaconda3\\lib\\site-packages (from matplotlib->mplfinance) (0.11.0)\n",
      "Requirement already satisfied: fonttools>=4.22.0 in c:\\users\\kcalo\\anaconda3\\lib\\site-packages (from matplotlib->mplfinance) (4.51.0)\n",
      "Requirement already satisfied: kiwisolver>=1.3.1 in c:\\users\\kcalo\\anaconda3\\lib\\site-packages (from matplotlib->mplfinance) (1.4.4)\n",
      "Requirement already satisfied: numpy>=1.21 in c:\\users\\kcalo\\anaconda3\\lib\\site-packages (from matplotlib->mplfinance) (1.26.4)\n",
      "Requirement already satisfied: packaging>=20.0 in c:\\users\\kcalo\\anaconda3\\lib\\site-packages (from matplotlib->mplfinance) (23.2)\n",
      "Requirement already satisfied: pillow>=8 in c:\\users\\kcalo\\anaconda3\\lib\\site-packages (from matplotlib->mplfinance) (10.3.0)\n",
      "Requirement already satisfied: pyparsing>=2.3.1 in c:\\users\\kcalo\\anaconda3\\lib\\site-packages (from matplotlib->mplfinance) (3.0.9)\n",
      "Requirement already satisfied: python-dateutil>=2.7 in c:\\users\\kcalo\\anaconda3\\lib\\site-packages (from matplotlib->mplfinance) (2.9.0.post0)\n",
      "Requirement already satisfied: pytz>=2020.1 in c:\\users\\kcalo\\anaconda3\\lib\\site-packages (from pandas->mplfinance) (2024.1)\n",
      "Requirement already satisfied: tzdata>=2022.7 in c:\\users\\kcalo\\anaconda3\\lib\\site-packages (from pandas->mplfinance) (2023.3)\n",
      "Requirement already satisfied: six>=1.5 in c:\\users\\kcalo\\anaconda3\\lib\\site-packages (from python-dateutil>=2.7->matplotlib->mplfinance) (1.16.0)\n"
     ]
    }
   ],
   "source": [
    "# Dependencies\n",
    "%pip install mplfinance\n",
    "import requests\n",
    "import json\n",
    "from pymongo import MongoClient\n",
    "import mplfinance as mpf"
   ]
  },
  {
   "cell_type": "code",
   "execution_count": 30,
   "metadata": {},
   "outputs": [],
   "source": [
    "# Import the API key securel\n",
    "# Sorry, I initially meant vantage..\n",
    "from kirsten_api_keys import alpha_advantage_api"
   ]
  },
  {
   "cell_type": "code",
   "execution_count": 31,
   "metadata": {},
   "outputs": [],
   "source": [
    "# Define the market index symbol (S&P 500 ETF - SPY)\n",
    "symbol = \"SPY\""
   ]
  },
  {
   "cell_type": "code",
   "execution_count": 32,
   "metadata": {},
   "outputs": [],
   "source": [
    "# Construct the API request URL to fetch daily adjusted closing prices\n",
    "url = 'https://www.alphavantage.co/query?function=TIME_SERIES_DAILY&symbol=SPY&outputsize=full&apikey=alpha_advantage_api'"
   ]
  },
  {
   "cell_type": "code",
   "execution_count": 33,
   "metadata": {},
   "outputs": [],
   "source": [
    "# Send a GET request to the Alpha Vantage API to fetch market data\n",
    "r = requests.get(url)"
   ]
  },
  {
   "cell_type": "code",
   "execution_count": 34,
   "metadata": {},
   "outputs": [],
   "source": [
    "# Parse the JSON response from the API\n",
    "data = r.json()"
   ]
  },
  {
   "cell_type": "code",
   "execution_count": 39,
   "metadata": {},
   "outputs": [
    {
     "name": "stdout",
     "output_type": "stream",
     "text": [
      "<class 'dict'>\n"
     ]
    }
   ],
   "source": [
    "# Rename it to market_index_spy_data\n",
    "market_index_spy_data = data  # Assign API response to new variable\n",
    "\n",
    "# Verify the rename\n",
    "print(type(market_index_spy_data))  # Should be dict or list"
   ]
  },
  {
   "cell_type": "code",
   "execution_count": null,
   "metadata": {},
   "outputs": [
    {
     "name": "stdout",
     "output_type": "stream",
     "text": [
      "Data inserted successfully into market_index_spy_data collection!\n"
     ]
    }
   ],
   "source": [
    "# Ensure MongoDB is connected\n",
    "mongo = MongoClient(\"mongodb://localhost:27017/\")\n",
    "\n",
    "# Select the database\n",
    "db = mongo[\"project3_group4\"]\n",
    "\n",
    "# Select the collection\n",
    "market_index_collection = db[\"market_index_spy_data\"]\n",
    "\n",
    "# Extract the time series data from the API response\n",
    "if \"Time Series (Daily)\" in market_index_spy_data:\n",
    "    time_series_data = market_index_spy_data[\"Time Series (Daily)\"]\n",
    "\n",
    "    # Transform it into a list of individual daily records\n",
    "    formatted_data = []\n",
    "    for date, values in time_series_data.items():\n",
    "        formatted_data.append({\n",
    "            \"date\": date,  # Store the date as a string\n",
    "            \"open\": float(values[\"1. open\"]),\n",
    "            \"high\": float(values[\"2. high\"]),\n",
    "            \"low\": float(values[\"3. low\"]),\n",
    "            \"close\": float(values[\"4. close\"]),\n",
    "            \"volume\": int(values[\"5. volume\"]),\n",
    "            \"symbol\": \"SPY\" \n",
    "        })\n",
    "\n",
    "    # Insert the formatted data into MongoDB\n",
    "    market_index_collection.insert_many(formatted_data)\n",
    "\n",
    "    print(\"Data inserted successfully into market_index_spy_data collection\")\n",
    "else:\n",
    "    print(\"Error: Unexpected API response\")"
   ]
  },
  {
   "cell_type": "code",
   "execution_count": 41,
   "metadata": {},
   "outputs": [
    {
     "name": "stdout",
     "output_type": "stream",
     "text": [
      "['stock_data', 'market_index_spy_data']\n"
     ]
    }
   ],
   "source": [
    "# List all collections in the database\n",
    "print(db.list_collection_names())  # Should include \"market_index_spy_data\""
   ]
  },
  {
   "cell_type": "code",
   "execution_count": 42,
   "metadata": {},
   "outputs": [
    {
     "name": "stdout",
     "output_type": "stream",
     "text": [
      "[{'_id': ObjectId('679c31222eb19b317a5c1a51'), 'date': '2025-01-30', 'open': 603.96, 'high': 606.6, 'low': 600.715, 'close': 605.04, 'volume': 36575953, 'symbol': 'SPY'}, {'_id': ObjectId('679c31222eb19b317a5c1a52'), 'date': '2025-01-29', 'open': 603.72, 'high': 604.13, 'low': 599.22, 'close': 601.81, 'volume': 37177429, 'symbol': 'SPY'}, {'_id': ObjectId('679c31222eb19b317a5c1a53'), 'date': '2025-01-28', 'open': 600.62, 'high': 605.37, 'low': 597.25, 'close': 604.52, 'volume': 44433322, 'symbol': 'SPY'}]\n"
     ]
    }
   ],
   "source": [
    "# Print a few documents from the collection\n",
    "sample_data = list(market_index_collection.find().limit(3))\n",
    "print(sample_data)"
   ]
  }
 ],
 "metadata": {
  "kernelspec": {
   "display_name": "base",
   "language": "python",
   "name": "python3"
  },
  "language_info": {
   "codemirror_mode": {
    "name": "ipython",
    "version": 3
   },
   "file_extension": ".py",
   "mimetype": "text/x-python",
   "name": "python",
   "nbconvert_exporter": "python",
   "pygments_lexer": "ipython3",
   "version": "3.12.4"
  }
 },
 "nbformat": 4,
 "nbformat_minor": 2
}
