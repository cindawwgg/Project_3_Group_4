{
 "cells": [
  {
   "cell_type": "code",
   "execution_count": null,
   "metadata": {},
   "outputs": [],
   "source": [
    "# Dependencies\n",
    "%pip install mplfinance\n",
    "import requests\n",
    "import json\n",
    "from pymongo import MongoClient\n",
    "import mplfinance as mpf"
   ]
  },
  {
   "cell_type": "code",
   "execution_count": 65,
   "metadata": {},
   "outputs": [],
   "source": [
    "# Import the API key\n",
    "from kirsten_api_keys import alpha_vantage_api"
   ]
  },
  {
   "cell_type": "code",
   "execution_count": 66,
   "metadata": {},
   "outputs": [],
   "source": [
    "# Top gainers/losers/volume api parameters\n",
    "first_function = 'TOP_GAINERS_LOSERS'\n"
   ]
  },
  {
   "cell_type": "code",
   "execution_count": 67,
   "metadata": {},
   "outputs": [],
   "source": [
    "# Make the api call to retrieve the top 20 gainers, losers, and most volume traded\n",
    "first_url = f'https://www.alphavantage.co/query?function={first_function}&apikey={alpha_advantage_api}'\n",
    "first_r = requests.get(first_url)\n",
    "first_data = first_r.json()"
   ]
  },
  {
   "cell_type": "code",
   "execution_count": null,
   "metadata": {},
   "outputs": [],
   "source": [
    "# view the information and select 8 stocks to analyze\n",
    "first_data"
   ]
  },
  {
   "cell_type": "markdown",
   "metadata": {},
   "source": [
    "Group 4 will be analyzing NVDA, WOK, YIBO, AVGX, DWTX, ELAB, AKRO, NRO"
   ]
  },
  {
   "cell_type": "code",
   "execution_count": 69,
   "metadata": {},
   "outputs": [],
   "source": [
    "# Target api parameters\n",
    "function = 'TIME_SERIES_DAILY'\n",
    "symbol = ['NVDA','WOK','YIBO','AVGX','DWTX','ELAB','AKRO','NRO']\n",
    "output = 'full'\n",
    "\n"
   ]
  },
  {
   "cell_type": "code",
   "execution_count": null,
   "metadata": {},
   "outputs": [],
   "source": [
    "# Iterate through the list of stock tickers and make retrieve the data for each stock. Stored in api_stock_data\n",
    "api_stock_data = []\n",
    "for stock in symbol:\n",
    "    url = f'https://www.alphavantage.co/query?function={function}&symbol={stock}&outputsize={output}&apikey={alpha_advantage_api}'\n",
    "    r = requests.get(url)\n",
    "    data = r.json()\n",
    "    for date,info in data['Time Series (Daily)'].items():\n",
    "        info['date'] = date\n",
    "        info['symbol'] = stock\n",
    "        api_stock_data.append(info)"
   ]
  },
  {
   "cell_type": "code",
   "execution_count": null,
   "metadata": {},
   "outputs": [],
   "source": [
    "# View the information from the retrieved data\n",
    "api_stock_data"
   ]
  },
  {
   "cell_type": "code",
   "execution_count": 10,
   "metadata": {},
   "outputs": [],
   "source": [
    "# Create an instance of MongoClient\n",
    "mongo = MongoClient(port=27017)"
   ]
  },
  {
   "cell_type": "code",
   "execution_count": 11,
   "metadata": {},
   "outputs": [],
   "source": [
    "# assign the project3_group4 database to a variable name\n",
    "db = mongo.project3_group4"
   ]
  },
  {
   "cell_type": "code",
   "execution_count": null,
   "metadata": {},
   "outputs": [],
   "source": [
    "# Insert the stock data into the stock_data collection within the database\n",
    "db.stock_data.insert_many(api_stock_data)"
   ]
  },
  {
   "cell_type": "code",
   "execution_count": null,
   "metadata": {},
   "outputs": [],
   "source": [
    "# Create a list out of the stock data that was imported into the mongoDB data base and collection\n",
    "# Assign a variable to the list\n",
    "mongo_stock_data = list(db.stock_data.find())\n",
    "# View the information\n",
    "mongo_stock_data"
   ]
  },
  {
   "cell_type": "markdown",
   "metadata": {},
   "source": [
    "Mongo_stock_data will be the collection that holds all stock information for all 8 stocks that we will be analysis. "
   ]
  },
  {
   "cell_type": "code",
   "execution_count": null,
   "metadata": {},
   "outputs": [],
   "source": [
    "# Save the json file to the Data folder (which will be used for the project analysis)\n",
    "#  NOTE: THE DATA ANALYSIS WILL BE PERFORMED ON THE STOCK DATA BETWEEN 1/28/2025 AND THE LAST 20 YEARS OR SO ON A DAILY INTERVAL.\n",
    "# STOCK DATA IS ONLY AVAILABLE FOR BUSINESS DAYS (NOT WEEKENDS OR FEDERAL HOLIDAYS) AS THE STOCK MARKET IS CLOSED ON THOSE DAYS.\n",
    "\n",
    "#COMMENT OUT THIS PART WITH GROUP\n",
    "\n",
    "#import json\n",
    "\n",
    "#file_path = '../Data/mongo_stock_data.json'\n",
    "\n",
    "#with open(file_path, 'w') as json_file:\n",
    "    #json.dump(mongo_stock_data, json_file, default= str)"
   ]
  },
  {
   "cell_type": "code",
   "execution_count": 76,
   "metadata": {},
   "outputs": [
    {
     "data": {
      "text/html": [
       "<div>\n",
       "<style scoped>\n",
       "    .dataframe tbody tr th:only-of-type {\n",
       "        vertical-align: middle;\n",
       "    }\n",
       "\n",
       "    .dataframe tbody tr th {\n",
       "        vertical-align: top;\n",
       "    }\n",
       "\n",
       "    .dataframe thead th {\n",
       "        text-align: right;\n",
       "    }\n",
       "</style>\n",
       "<table border=\"1\" class=\"dataframe\">\n",
       "  <thead>\n",
       "    <tr style=\"text-align: right;\">\n",
       "      <th></th>\n",
       "      <th>1. open</th>\n",
       "      <th>2. high</th>\n",
       "      <th>3. low</th>\n",
       "      <th>4. close</th>\n",
       "      <th>5. volume</th>\n",
       "      <th>date</th>\n",
       "      <th>symbol</th>\n",
       "    </tr>\n",
       "  </thead>\n",
       "  <tbody>\n",
       "    <tr>\n",
       "      <th>0</th>\n",
       "      <td>121.8100</td>\n",
       "      <td>129.0000</td>\n",
       "      <td>116.2500</td>\n",
       "      <td>128.9900</td>\n",
       "      <td>574006633</td>\n",
       "      <td>2025-01-28</td>\n",
       "      <td>NVDA</td>\n",
       "    </tr>\n",
       "    <tr>\n",
       "      <th>1</th>\n",
       "      <td>124.8000</td>\n",
       "      <td>128.4000</td>\n",
       "      <td>116.7000</td>\n",
       "      <td>118.4200</td>\n",
       "      <td>818830895</td>\n",
       "      <td>2025-01-27</td>\n",
       "      <td>NVDA</td>\n",
       "    </tr>\n",
       "    <tr>\n",
       "      <th>2</th>\n",
       "      <td>148.3700</td>\n",
       "      <td>148.9700</td>\n",
       "      <td>141.8800</td>\n",
       "      <td>142.6200</td>\n",
       "      <td>234657635</td>\n",
       "      <td>2025-01-24</td>\n",
       "      <td>NVDA</td>\n",
       "    </tr>\n",
       "    <tr>\n",
       "      <th>3</th>\n",
       "      <td>145.0500</td>\n",
       "      <td>147.2300</td>\n",
       "      <td>143.7200</td>\n",
       "      <td>147.2200</td>\n",
       "      <td>155915549</td>\n",
       "      <td>2025-01-23</td>\n",
       "      <td>NVDA</td>\n",
       "    </tr>\n",
       "    <tr>\n",
       "      <th>4</th>\n",
       "      <td>144.6600</td>\n",
       "      <td>147.7900</td>\n",
       "      <td>143.6700</td>\n",
       "      <td>147.0700</td>\n",
       "      <td>237651395</td>\n",
       "      <td>2025-01-22</td>\n",
       "      <td>NVDA</td>\n",
       "    </tr>\n",
       "  </tbody>\n",
       "</table>\n",
       "</div>"
      ],
      "text/plain": [
       "    1. open   2. high    3. low  4. close  5. volume        date symbol\n",
       "0  121.8100  129.0000  116.2500  128.9900  574006633  2025-01-28   NVDA\n",
       "1  124.8000  128.4000  116.7000  118.4200  818830895  2025-01-27   NVDA\n",
       "2  148.3700  148.9700  141.8800  142.6200  234657635  2025-01-24   NVDA\n",
       "3  145.0500  147.2300  143.7200  147.2200  155915549  2025-01-23   NVDA\n",
       "4  144.6600  147.7900  143.6700  147.0700  237651395  2025-01-22   NVDA"
      ]
     },
     "execution_count": 76,
     "metadata": {},
     "output_type": "execute_result"
    }
   ],
   "source": [
    "import pandas as pd\n",
    "import json\n",
    "\n",
    "# Load the JSON file\n",
    "file_path = '../Data/mongo_stock_data.json'\n",
    "\n",
    "with open(file_path, 'r') as json_file:\n",
    "    stock_data = json.load(json_file)\n",
    "\n",
    "# Convert to DataFrame\n",
    "df = pd.DataFrame(stock_data)\n",
    "\n",
    "# Display the first few rows\n",
    "df.head()"
   ]
  },
  {
   "cell_type": "code",
   "execution_count": 93,
   "metadata": {},
   "outputs": [
    {
     "data": {
      "text/html": [
       "<div>\n",
       "<style scoped>\n",
       "    .dataframe tbody tr th:only-of-type {\n",
       "        vertical-align: middle;\n",
       "    }\n",
       "\n",
       "    .dataframe tbody tr th {\n",
       "        vertical-align: top;\n",
       "    }\n",
       "\n",
       "    .dataframe thead th {\n",
       "        text-align: right;\n",
       "    }\n",
       "</style>\n",
       "<table border=\"1\" class=\"dataframe\">\n",
       "  <thead>\n",
       "    <tr style=\"text-align: right;\">\n",
       "      <th></th>\n",
       "      <th>1. open</th>\n",
       "      <th>2. high</th>\n",
       "      <th>3. low</th>\n",
       "      <th>4. close</th>\n",
       "      <th>5. volume</th>\n",
       "      <th>date</th>\n",
       "      <th>symbol</th>\n",
       "    </tr>\n",
       "  </thead>\n",
       "  <tbody>\n",
       "    <tr>\n",
       "      <th>6456</th>\n",
       "      <td>5.5800</td>\n",
       "      <td>6.1200</td>\n",
       "      <td>4.2600</td>\n",
       "      <td>5.1400</td>\n",
       "      <td>55408228</td>\n",
       "      <td>2025-01-28</td>\n",
       "      <td>YIBO</td>\n",
       "    </tr>\n",
       "    <tr>\n",
       "      <th>6457</th>\n",
       "      <td>2.7000</td>\n",
       "      <td>17.4700</td>\n",
       "      <td>2.7000</td>\n",
       "      <td>3.0800</td>\n",
       "      <td>35240720</td>\n",
       "      <td>2025-01-27</td>\n",
       "      <td>YIBO</td>\n",
       "    </tr>\n",
       "    <tr>\n",
       "      <th>6458</th>\n",
       "      <td>3.2000</td>\n",
       "      <td>3.2000</td>\n",
       "      <td>2.0800</td>\n",
       "      <td>2.1500</td>\n",
       "      <td>53216</td>\n",
       "      <td>2025-01-24</td>\n",
       "      <td>YIBO</td>\n",
       "    </tr>\n",
       "    <tr>\n",
       "      <th>6459</th>\n",
       "      <td>2.9900</td>\n",
       "      <td>3.3100</td>\n",
       "      <td>2.9900</td>\n",
       "      <td>3.0800</td>\n",
       "      <td>12620</td>\n",
       "      <td>2025-01-23</td>\n",
       "      <td>YIBO</td>\n",
       "    </tr>\n",
       "    <tr>\n",
       "      <th>6460</th>\n",
       "      <td>3.0800</td>\n",
       "      <td>3.0800</td>\n",
       "      <td>3.0600</td>\n",
       "      <td>3.0600</td>\n",
       "      <td>803</td>\n",
       "      <td>2025-01-22</td>\n",
       "      <td>YIBO</td>\n",
       "    </tr>\n",
       "  </tbody>\n",
       "</table>\n",
       "</div>"
      ],
      "text/plain": [
       "     1. open  2. high  3. low 4. close 5. volume        date symbol\n",
       "6456  5.5800   6.1200  4.2600   5.1400  55408228  2025-01-28   YIBO\n",
       "6457  2.7000  17.4700  2.7000   3.0800  35240720  2025-01-27   YIBO\n",
       "6458  3.2000   3.2000  2.0800   2.1500     53216  2025-01-24   YIBO\n",
       "6459  2.9900   3.3100  2.9900   3.0800     12620  2025-01-23   YIBO\n",
       "6460  3.0800   3.0800  3.0600   3.0600       803  2025-01-22   YIBO"
      ]
     },
     "execution_count": 93,
     "metadata": {},
     "output_type": "execute_result"
    }
   ],
   "source": [
    "# Filter for specific stocks\n",
    "df_filtered = df[df['symbol'].isin(['YIBO', 'AVGX'])]\n",
    "\n",
    "# Display filtered data\n",
    "df_filtered.head()"
   ]
  },
  {
   "cell_type": "code",
   "execution_count": 94,
   "metadata": {},
   "outputs": [
    {
     "name": "stderr",
     "output_type": "stream",
     "text": [
      "C:\\Users\\kcalo\\AppData\\Local\\Temp\\ipykernel_10944\\160530148.py:1: SettingWithCopyWarning: \n",
      "A value is trying to be set on a copy of a slice from a DataFrame.\n",
      "Try using .loc[row_indexer,col_indexer] = value instead\n",
      "\n",
      "See the caveats in the documentation: https://pandas.pydata.org/pandas-docs/stable/user_guide/indexing.html#returning-a-view-versus-a-copy\n",
      "  df_filtered['date'] = pd.to_datetime(df_filtered['date'])\n"
     ]
    },
    {
     "data": {
      "text/html": [
       "<div>\n",
       "<style scoped>\n",
       "    .dataframe tbody tr th:only-of-type {\n",
       "        vertical-align: middle;\n",
       "    }\n",
       "\n",
       "    .dataframe tbody tr th {\n",
       "        vertical-align: top;\n",
       "    }\n",
       "\n",
       "    .dataframe thead th {\n",
       "        text-align: right;\n",
       "    }\n",
       "</style>\n",
       "<table border=\"1\" class=\"dataframe\">\n",
       "  <thead>\n",
       "    <tr style=\"text-align: right;\">\n",
       "      <th></th>\n",
       "      <th>1. open</th>\n",
       "      <th>2. high</th>\n",
       "      <th>3. low</th>\n",
       "      <th>4. close</th>\n",
       "      <th>5. volume</th>\n",
       "      <th>symbol</th>\n",
       "    </tr>\n",
       "    <tr>\n",
       "      <th>date</th>\n",
       "      <th></th>\n",
       "      <th></th>\n",
       "      <th></th>\n",
       "      <th></th>\n",
       "      <th></th>\n",
       "      <th></th>\n",
       "    </tr>\n",
       "  </thead>\n",
       "  <tbody>\n",
       "    <tr>\n",
       "      <th>2024-01-25</th>\n",
       "      <td>4.0000</td>\n",
       "      <td>4.0000</td>\n",
       "      <td>2.4000</td>\n",
       "      <td>2.7900</td>\n",
       "      <td>875455</td>\n",
       "      <td>YIBO</td>\n",
       "    </tr>\n",
       "    <tr>\n",
       "      <th>2024-01-26</th>\n",
       "      <td>2.9600</td>\n",
       "      <td>2.9600</td>\n",
       "      <td>1.8600</td>\n",
       "      <td>2.7200</td>\n",
       "      <td>386336</td>\n",
       "      <td>YIBO</td>\n",
       "    </tr>\n",
       "    <tr>\n",
       "      <th>2024-01-29</th>\n",
       "      <td>2.4700</td>\n",
       "      <td>2.7600</td>\n",
       "      <td>2.3000</td>\n",
       "      <td>2.6000</td>\n",
       "      <td>79493</td>\n",
       "      <td>YIBO</td>\n",
       "    </tr>\n",
       "    <tr>\n",
       "      <th>2024-01-30</th>\n",
       "      <td>2.2500</td>\n",
       "      <td>2.6999</td>\n",
       "      <td>2.2500</td>\n",
       "      <td>2.6600</td>\n",
       "      <td>47410</td>\n",
       "      <td>YIBO</td>\n",
       "    </tr>\n",
       "    <tr>\n",
       "      <th>2024-01-31</th>\n",
       "      <td>2.3800</td>\n",
       "      <td>2.7200</td>\n",
       "      <td>2.3800</td>\n",
       "      <td>2.4200</td>\n",
       "      <td>61474</td>\n",
       "      <td>YIBO</td>\n",
       "    </tr>\n",
       "  </tbody>\n",
       "</table>\n",
       "</div>"
      ],
      "text/plain": [
       "           1. open 2. high  3. low 4. close 5. volume symbol\n",
       "date                                                        \n",
       "2024-01-25  4.0000  4.0000  2.4000   2.7900    875455   YIBO\n",
       "2024-01-26  2.9600  2.9600  1.8600   2.7200    386336   YIBO\n",
       "2024-01-29  2.4700  2.7600  2.3000   2.6000     79493   YIBO\n",
       "2024-01-30  2.2500  2.6999  2.2500   2.6600     47410   YIBO\n",
       "2024-01-31  2.3800  2.7200  2.3800   2.4200     61474   YIBO"
      ]
     },
     "execution_count": 94,
     "metadata": {},
     "output_type": "execute_result"
    }
   ],
   "source": [
    "df_filtered['date'] = pd.to_datetime(df_filtered['date'])\n",
    "\n",
    "# Set index as date\n",
    "df_filtered.set_index('date', inplace=True)\n",
    "\n",
    "# Sort by date\n",
    "df_filtered = df_filtered.sort_index()\n",
    "\n",
    "df_filtered.head()"
   ]
  },
  {
   "cell_type": "code",
   "execution_count": 102,
   "metadata": {},
   "outputs": [
    {
     "name": "stdout",
     "output_type": "stream",
     "text": [
      "2024-01-25 00:00:00 2025-01-28 00:00:00\n"
     ]
    },
    {
     "data": {
      "text/html": [
       "<div>\n",
       "<style scoped>\n",
       "    .dataframe tbody tr th:only-of-type {\n",
       "        vertical-align: middle;\n",
       "    }\n",
       "\n",
       "    .dataframe tbody tr th {\n",
       "        vertical-align: top;\n",
       "    }\n",
       "\n",
       "    .dataframe thead th {\n",
       "        text-align: right;\n",
       "    }\n",
       "</style>\n",
       "<table border=\"1\" class=\"dataframe\">\n",
       "  <thead>\n",
       "    <tr style=\"text-align: right;\">\n",
       "      <th></th>\n",
       "      <th>1. open</th>\n",
       "      <th>2. high</th>\n",
       "      <th>3. low</th>\n",
       "      <th>4. close</th>\n",
       "      <th>5. volume</th>\n",
       "      <th>symbol</th>\n",
       "    </tr>\n",
       "    <tr>\n",
       "      <th>date</th>\n",
       "      <th></th>\n",
       "      <th></th>\n",
       "      <th></th>\n",
       "      <th></th>\n",
       "      <th></th>\n",
       "      <th></th>\n",
       "    </tr>\n",
       "  </thead>\n",
       "  <tbody>\n",
       "    <tr>\n",
       "      <th>2024-01-25</th>\n",
       "      <td>4.0000</td>\n",
       "      <td>4.0000</td>\n",
       "      <td>2.4000</td>\n",
       "      <td>2.7900</td>\n",
       "      <td>875455</td>\n",
       "      <td>YIBO</td>\n",
       "    </tr>\n",
       "    <tr>\n",
       "      <th>2024-01-26</th>\n",
       "      <td>2.9600</td>\n",
       "      <td>2.9600</td>\n",
       "      <td>1.8600</td>\n",
       "      <td>2.7200</td>\n",
       "      <td>386336</td>\n",
       "      <td>YIBO</td>\n",
       "    </tr>\n",
       "    <tr>\n",
       "      <th>2024-01-29</th>\n",
       "      <td>2.4700</td>\n",
       "      <td>2.7600</td>\n",
       "      <td>2.3000</td>\n",
       "      <td>2.6000</td>\n",
       "      <td>79493</td>\n",
       "      <td>YIBO</td>\n",
       "    </tr>\n",
       "    <tr>\n",
       "      <th>2024-01-30</th>\n",
       "      <td>2.2500</td>\n",
       "      <td>2.6999</td>\n",
       "      <td>2.2500</td>\n",
       "      <td>2.6600</td>\n",
       "      <td>47410</td>\n",
       "      <td>YIBO</td>\n",
       "    </tr>\n",
       "    <tr>\n",
       "      <th>2024-01-31</th>\n",
       "      <td>2.3800</td>\n",
       "      <td>2.7200</td>\n",
       "      <td>2.3800</td>\n",
       "      <td>2.4200</td>\n",
       "      <td>61474</td>\n",
       "      <td>YIBO</td>\n",
       "    </tr>\n",
       "    <tr>\n",
       "      <th>...</th>\n",
       "      <td>...</td>\n",
       "      <td>...</td>\n",
       "      <td>...</td>\n",
       "      <td>...</td>\n",
       "      <td>...</td>\n",
       "      <td>...</td>\n",
       "    </tr>\n",
       "    <tr>\n",
       "      <th>2025-01-24</th>\n",
       "      <td>35.4900</td>\n",
       "      <td>36.9599</td>\n",
       "      <td>34.7500</td>\n",
       "      <td>35.4600</td>\n",
       "      <td>645810</td>\n",
       "      <td>AVGX</td>\n",
       "    </tr>\n",
       "    <tr>\n",
       "      <th>2025-01-27</th>\n",
       "      <td>26.1300</td>\n",
       "      <td>27.8900</td>\n",
       "      <td>21.5000</td>\n",
       "      <td>23.2600</td>\n",
       "      <td>4540142</td>\n",
       "      <td>AVGX</td>\n",
       "    </tr>\n",
       "    <tr>\n",
       "      <th>2025-01-27</th>\n",
       "      <td>2.7000</td>\n",
       "      <td>17.4700</td>\n",
       "      <td>2.7000</td>\n",
       "      <td>3.0800</td>\n",
       "      <td>35240720</td>\n",
       "      <td>YIBO</td>\n",
       "    </tr>\n",
       "    <tr>\n",
       "      <th>2025-01-28</th>\n",
       "      <td>24.5700</td>\n",
       "      <td>24.9429</td>\n",
       "      <td>22.4700</td>\n",
       "      <td>24.3700</td>\n",
       "      <td>2513500</td>\n",
       "      <td>AVGX</td>\n",
       "    </tr>\n",
       "    <tr>\n",
       "      <th>2025-01-28</th>\n",
       "      <td>5.5800</td>\n",
       "      <td>6.1200</td>\n",
       "      <td>4.2600</td>\n",
       "      <td>5.1400</td>\n",
       "      <td>55408228</td>\n",
       "      <td>YIBO</td>\n",
       "    </tr>\n",
       "  </tbody>\n",
       "</table>\n",
       "<p>361 rows × 6 columns</p>\n",
       "</div>"
      ],
      "text/plain": [
       "            1. open  2. high   3. low 4. close 5. volume symbol\n",
       "date                                                           \n",
       "2024-01-25   4.0000   4.0000   2.4000   2.7900    875455   YIBO\n",
       "2024-01-26   2.9600   2.9600   1.8600   2.7200    386336   YIBO\n",
       "2024-01-29   2.4700   2.7600   2.3000   2.6000     79493   YIBO\n",
       "2024-01-30   2.2500   2.6999   2.2500   2.6600     47410   YIBO\n",
       "2024-01-31   2.3800   2.7200   2.3800   2.4200     61474   YIBO\n",
       "...             ...      ...      ...      ...       ...    ...\n",
       "2025-01-24  35.4900  36.9599  34.7500  35.4600    645810   AVGX\n",
       "2025-01-27  26.1300  27.8900  21.5000  23.2600   4540142   AVGX\n",
       "2025-01-27   2.7000  17.4700   2.7000   3.0800  35240720   YIBO\n",
       "2025-01-28  24.5700  24.9429  22.4700  24.3700   2513500   AVGX\n",
       "2025-01-28   5.5800   6.1200   4.2600   5.1400  55408228   YIBO\n",
       "\n",
       "[361 rows x 6 columns]"
      ]
     },
     "execution_count": 102,
     "metadata": {},
     "output_type": "execute_result"
    }
   ],
   "source": [
    "import pandas as pd\n",
    "\n",
    "# Define 20-year cutoff date\n",
    "start_date = pd.to_datetime(\"2005-01-28\")\n",
    "\n",
    "# Filter dataset\n",
    "df_filtered = df_filtered[df_filtered.index >= start_date]\n",
    "\n",
    "# Check data range\n",
    "print(df_filtered.index.min(), df_filtered.index.max())\n",
    "(df_filtered)"
   ]
  },
  {
   "cell_type": "code",
   "execution_count": 107,
   "metadata": {},
   "outputs": [],
   "source": [
    "df_copy = df_filtered.copy().reset_index()  # Bring 'date' back as a column"
   ]
  },
  {
   "cell_type": "code",
   "execution_count": 108,
   "metadata": {},
   "outputs": [],
   "source": [
    "df_copy.rename(columns={\n",
    "    'date': 'Date',  # Now 'date' exists as a column, rename it\n",
    "    '1. open': 'Open',\n",
    "    '2. high': 'High',\n",
    "    '3. low': 'Low',\n",
    "    '4. close': 'Close',\n",
    "    '5. volume': 'Volume'\n",
    "}, inplace=True)"
   ]
  },
  {
   "cell_type": "code",
   "execution_count": 109,
   "metadata": {},
   "outputs": [
    {
     "name": "stdout",
     "output_type": "stream",
     "text": [
      "Index(['Date', 'Open', 'High', 'Low', 'Close', 'Volume', 'symbol'], dtype='object')\n",
      "        Date    Open    High     Low   Close  Volume symbol\n",
      "0 2024-01-25  4.0000  4.0000  2.4000  2.7900  875455   YIBO\n",
      "1 2024-01-26  2.9600  2.9600  1.8600  2.7200  386336   YIBO\n",
      "2 2024-01-29  2.4700  2.7600  2.3000  2.6000   79493   YIBO\n",
      "3 2024-01-30  2.2500  2.6999  2.2500  2.6600   47410   YIBO\n",
      "4 2024-01-31  2.3800  2.7200  2.3800  2.4200   61474   YIBO\n"
     ]
    }
   ],
   "source": [
    "print(df_copy.columns)  # Ensure 'Date' appears in the list\n",
    "print(df_copy.head())  # Check if 'Date' contains values\n"
   ]
  },
  {
   "cell_type": "code",
   "execution_count": 105,
   "metadata": {},
   "outputs": [],
   "source": [
    "df_copy.columns = [col.split('. ')[-1].capitalize() for col in df_copy.columns]\n"
   ]
  },
  {
   "cell_type": "code",
   "execution_count": 110,
   "metadata": {},
   "outputs": [
    {
     "name": "stdout",
     "output_type": "stream",
     "text": [
      "Index(['Date', 'Open', 'High', 'Low', 'Close', 'Volume', 'symbol'], dtype='object')\n"
     ]
    }
   ],
   "source": [
    "print(df_copy.columns)\n"
   ]
  },
  {
   "cell_type": "code",
   "execution_count": 111,
   "metadata": {},
   "outputs": [],
   "source": [
    "df_copy['Date'] = pd.to_datetime(df_copy['Date']).dt.strftime('%Y-%m-%d')"
   ]
  },
  {
   "cell_type": "code",
   "execution_count": 112,
   "metadata": {},
   "outputs": [],
   "source": [
    "df_copy.to_json(\"kirsten_cleaned_stock_data.json\", orient=\"records\", indent=4)"
   ]
  }
 ],
 "metadata": {
  "kernelspec": {
   "display_name": "base",
   "language": "python",
   "name": "python3"
  },
  "language_info": {
   "codemirror_mode": {
    "name": "ipython",
    "version": 3
   },
   "file_extension": ".py",
   "mimetype": "text/x-python",
   "name": "python",
   "nbconvert_exporter": "python",
   "pygments_lexer": "ipython3",
   "version": "3.12.4"
  }
 },
 "nbformat": 4,
 "nbformat_minor": 2
}
