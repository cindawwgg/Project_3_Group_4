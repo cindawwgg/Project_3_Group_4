{
 "cells": [
  {
   "cell_type": "code",
   "execution_count": 1,
   "metadata": {},
   "outputs": [],
   "source": [
    "# Dependencies\n",
    "import requests\n",
    "import json\n",
    "from pymongo import MongoClient\n",
    "\n",
    "# Import the API key\n",
    "from cindy_api_keys import alpha_advantage_api"
   ]
  },
  {
   "cell_type": "code",
   "execution_count": null,
   "metadata": {},
   "outputs": [],
   "source": [
    "# Top gainers/losers/volume api parameters\n",
    "first_function = 'TOP_GAINERS_LOSERS'\n"
   ]
  },
  {
   "cell_type": "code",
   "execution_count": null,
   "metadata": {},
   "outputs": [],
   "source": [
    "# Make the api call to retrieve the top 20 gainers, losers, and most volume traded\n",
    "first_url = f'https://www.alphavantage.co/query?function={first_function}&apikey={alpha_advantage_api}'\n",
    "first_r = requests.get(first_url)\n",
    "first_data = first_r.json()"
   ]
  },
  {
   "cell_type": "code",
   "execution_count": null,
   "metadata": {},
   "outputs": [],
   "source": [
    "# view the information and select 8 stocks to analyze\n",
    "first_data"
   ]
  },
  {
   "cell_type": "markdown",
   "metadata": {},
   "source": [
    "Group 4 will be analyzing NVDA, WOK, YIBO, AVGX, DWTX, ELAB, AKRO, NRO"
   ]
  },
  {
   "cell_type": "code",
   "execution_count": 2,
   "metadata": {},
   "outputs": [],
   "source": [
    "# Target api parameters\n",
    "function = 'TIME_SERIES_DAILY'\n",
    "symbol = ['NVDA','WOK','YIBO','AVGX','DWTX','ELAB','AKRO','NRO']\n",
    "output = 'full'\n",
    "\n"
   ]
  },
  {
   "cell_type": "code",
   "execution_count": 3,
   "metadata": {},
   "outputs": [],
   "source": [
    "# Iterate through the list of stock tickers and make retrieve the data for each stock. Stored in api_stock_data\n",
    "api_stock_data = []\n",
    "for stock in symbol:\n",
    "    url = f'https://www.alphavantage.co/query?function={function}&symbol={stock}&outputsize={output}&apikey={alpha_advantage_api}'\n",
    "    r = requests.get(url)\n",
    "    data = r.json()\n",
    "    api_stock_data.append(data)"
   ]
  },
  {
   "cell_type": "code",
   "execution_count": null,
   "metadata": {},
   "outputs": [],
   "source": [
    "# View the information from the retrieved data\n",
    "api_stock_data"
   ]
  },
  {
   "cell_type": "code",
   "execution_count": null,
   "metadata": {},
   "outputs": [],
   "source": [
    "# Iterate through the stock data and retrieve the information that is necessary for our analysis\n",
    "stock_data = []\n",
    "for date,info in api_stock_data['Time Series (Daily)'].items():\n",
    "    info['date'] = date\n",
    "    info['symbol'] = stock\n",
    "    stock_data.append(info)\n",
    "\n",
    "# View the information\n",
    "stock_data"
   ]
  },
  {
   "cell_type": "code",
   "execution_count": 26,
   "metadata": {},
   "outputs": [],
   "source": [
    "# Create an instance of MongoClient\n",
    "mongo = MongoClient(port=27017)"
   ]
  },
  {
   "cell_type": "code",
   "execution_count": 27,
   "metadata": {},
   "outputs": [],
   "source": [
    "# assign the project3_group4 database to a variable name\n",
    "db = mongo.project3_group4"
   ]
  },
  {
   "cell_type": "code",
   "execution_count": null,
   "metadata": {},
   "outputs": [],
   "source": [
    "# Insert the stock data into the stock_data collection within the database\n",
    "db.stock_data.insert_many(stock_data)"
   ]
  },
  {
   "cell_type": "code",
   "execution_count": null,
   "metadata": {},
   "outputs": [],
   "source": [
    "# Create a list out of the stock data that was imported into the mongoDB data base and collection\n",
    "# Assign a variable to the list\n",
    "mongo_stock_data = list(db.stock_data.find())\n",
    "# View the information\n",
    "mongo_stock_data"
   ]
  },
  {
   "cell_type": "markdown",
   "metadata": {},
   "source": [
    "Mongo_stock_data will be the collection that holds all stock information for all 8 stocks that we will be analysis. "
   ]
  },
  {
   "cell_type": "code",
   "execution_count": null,
   "metadata": {},
   "outputs": [],
   "source": [
    "# Save the json file to the Data folder (which will be used for the project analysis)\n",
    "#  NOTE: THE DATA ANALYSIS WILL BE PERFORMED ON THE STOCK DATA BETWEEN 1/##/2025 AND THE LAST 20 YEARS OR SO ON A DAILY INTERVAL.\n",
    "# STOCK DATA IS ONLY AVAILABLE FOR BUSINESS DAYS (NOT WEEKENDS OR FEDERAL HOLIDAYS) AS THE STOCK MARKET IS CLOSED ON THOSE DAYS.\n",
    "\n",
    "#COMMENT OUT THIS PART WITH GROUP\n",
    "\n",
    "#import json\n",
    "\n",
    "#file_path = '../Data/mongo_stock_data.json'\n",
    "\n",
    "#with open(file_path, 'w') as json_file:\n",
    "    #json.dump(mongo_stock_data, json_file, default= str)"
   ]
  }
 ],
 "metadata": {
  "kernelspec": {
   "display_name": "base",
   "language": "python",
   "name": "python3"
  },
  "language_info": {
   "codemirror_mode": {
    "name": "ipython",
    "version": 3
   },
   "file_extension": ".py",
   "mimetype": "text/x-python",
   "name": "python",
   "nbconvert_exporter": "python",
   "pygments_lexer": "ipython3",
   "version": "3.12.3"
  }
 },
 "nbformat": 4,
 "nbformat_minor": 2
}
