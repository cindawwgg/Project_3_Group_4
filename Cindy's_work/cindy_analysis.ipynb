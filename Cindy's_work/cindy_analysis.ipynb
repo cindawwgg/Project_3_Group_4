{
 "cells": [
  {
   "cell_type": "code",
   "execution_count": null,
   "metadata": {},
   "outputs": [],
   "source": [
    "#https://github.com/matplotlib/mplfinance#usage\n",
    "\n"
   ]
  },
  {
   "cell_type": "markdown",
   "metadata": {},
   "source": [
    "Is it required for us to use GitHub projects?\n",
    "\n",
    "what does it mean where it says:\n",
    "The project includes some level of user-driven interaction, conforming to one of the following designs: (10 points)\n",
    "\n",
    "HTML menus, dropdowns, and/or textboxes to display JavaScript-powered visualizations\n",
    "\n",
    "Flask backend with interactive API routes that serve back Python or JavaScript created plots\n",
    "\n",
    "Visualizations created from user-selected filtered data\n",
    "\n",
    "What does it mean where it says: If possible, your final visualization should ideally include at least three views."
   ]
  },
  {
   "cell_type": "markdown",
   "metadata": {},
   "source": []
  }
 ],
 "metadata": {
  "language_info": {
   "name": "python"
  }
 },
 "nbformat": 4,
 "nbformat_minor": 2
}
